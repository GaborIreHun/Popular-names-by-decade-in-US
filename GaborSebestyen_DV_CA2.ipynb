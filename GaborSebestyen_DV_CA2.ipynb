{
 "cells": [
  {
   "cell_type": "code",
   "execution_count": 1,
   "metadata": {},
   "outputs": [],
   "source": [
    "import pandas as pd\n",
    "import numpy as np\n",
    "import matplotlib.pyplot as plt\n",
    "import seaborn as sns"
   ]
  },
  {
   "cell_type": "code",
   "execution_count": 2,
   "metadata": {},
   "outputs": [],
   "source": [
    "names = pd.read_csv(r'C:\\Users\\Machine\\Desktop\\CCT DDAB\\Data Visualization\\CA2\\us-names-by-decade.csv')"
   ]
  },
  {
   "cell_type": "code",
   "execution_count": 3,
   "metadata": {},
   "outputs": [
    {
     "data": {
      "text/html": [
       "<div>\n",
       "<style scoped>\n",
       "    .dataframe tbody tr th:only-of-type {\n",
       "        vertical-align: middle;\n",
       "    }\n",
       "\n",
       "    .dataframe tbody tr th {\n",
       "        vertical-align: top;\n",
       "    }\n",
       "\n",
       "    .dataframe thead th {\n",
       "        text-align: right;\n",
       "    }\n",
       "</style>\n",
       "<table border=\"1\" class=\"dataframe\">\n",
       "  <thead>\n",
       "    <tr style=\"text-align: right;\">\n",
       "      <th></th>\n",
       "      <th>gender</th>\n",
       "      <th>name</th>\n",
       "      <th>decade</th>\n",
       "      <th>count</th>\n",
       "    </tr>\n",
       "  </thead>\n",
       "  <tbody>\n",
       "    <tr>\n",
       "      <th>0</th>\n",
       "      <td>F</td>\n",
       "      <td>Sophia</td>\n",
       "      <td>2010</td>\n",
       "      <td>85720</td>\n",
       "    </tr>\n",
       "    <tr>\n",
       "      <th>1</th>\n",
       "      <td>M</td>\n",
       "      <td>Jacob</td>\n",
       "      <td>2010</td>\n",
       "      <td>79359</td>\n",
       "    </tr>\n",
       "    <tr>\n",
       "      <th>2</th>\n",
       "      <td>F</td>\n",
       "      <td>Isabella</td>\n",
       "      <td>2010</td>\n",
       "      <td>79238</td>\n",
       "    </tr>\n",
       "    <tr>\n",
       "      <th>3</th>\n",
       "      <td>F</td>\n",
       "      <td>Emma</td>\n",
       "      <td>2010</td>\n",
       "      <td>77736</td>\n",
       "    </tr>\n",
       "    <tr>\n",
       "      <th>4</th>\n",
       "      <td>M</td>\n",
       "      <td>Mason</td>\n",
       "      <td>2010</td>\n",
       "      <td>70808</td>\n",
       "    </tr>\n",
       "  </tbody>\n",
       "</table>\n",
       "</div>"
      ],
      "text/plain": [
       "  gender      name  decade  count\n",
       "0      F    Sophia    2010  85720\n",
       "1      M     Jacob    2010  79359\n",
       "2      F  Isabella    2010  79238\n",
       "3      F      Emma    2010  77736\n",
       "4      M     Mason    2010  70808"
      ]
     },
     "execution_count": 3,
     "metadata": {},
     "output_type": "execute_result"
    }
   ],
   "source": [
    "names.head()"
   ]
  },
  {
   "cell_type": "code",
   "execution_count": 4,
   "metadata": {},
   "outputs": [
    {
     "data": {
      "text/plain": [
       "295727065"
      ]
     },
     "execution_count": 4,
     "metadata": {},
     "output_type": "execute_result"
    }
   ],
   "source": [
    "names['count'].sum()"
   ]
  },
  {
   "cell_type": "code",
   "execution_count": 5,
   "metadata": {},
   "outputs": [
    {
     "data": {
      "text/plain": [
       "2000    17862\n",
       "1990    15720\n",
       "2010    14151\n",
       "1980    12435\n",
       "1970     9751\n",
       "1960     7383\n",
       "1920     6899\n",
       "1950     6701\n",
       "1940     5920\n",
       "1930     5883\n",
       "1910     5679\n",
       "Name: decade, dtype: int64"
      ]
     },
     "execution_count": 5,
     "metadata": {},
     "output_type": "execute_result"
    }
   ],
   "source": [
    "names['decade'].value_counts()"
   ]
  },
  {
   "cell_type": "code",
   "execution_count": 6,
   "metadata": {},
   "outputs": [
    {
     "data": {
      "text/plain": [
       "Joseph      22\n",
       "Jamie       22\n",
       "Charlie     22\n",
       "Johnnie     22\n",
       "Jean        22\n",
       "            ..\n",
       "Nishan       1\n",
       "Trayvion     1\n",
       "Tarri        1\n",
       "Charnice     1\n",
       "Hui          1\n",
       "Name: name, Length: 29828, dtype: int64"
      ]
     },
     "execution_count": 6,
     "metadata": {},
     "output_type": "execute_result"
    }
   ],
   "source": [
    "names['name'].value_counts()"
   ]
  },
  {
   "cell_type": "code",
   "execution_count": 7,
   "metadata": {},
   "outputs": [
    {
     "data": {
      "text/html": [
       "<div>\n",
       "<style scoped>\n",
       "    .dataframe tbody tr th:only-of-type {\n",
       "        vertical-align: middle;\n",
       "    }\n",
       "\n",
       "    .dataframe tbody tr th {\n",
       "        vertical-align: top;\n",
       "    }\n",
       "\n",
       "    .dataframe thead th {\n",
       "        text-align: right;\n",
       "    }\n",
       "</style>\n",
       "<table border=\"1\" class=\"dataframe\">\n",
       "  <thead>\n",
       "    <tr style=\"text-align: right;\">\n",
       "      <th></th>\n",
       "      <th>gender</th>\n",
       "      <th>name</th>\n",
       "      <th>decade</th>\n",
       "      <th>count</th>\n",
       "    </tr>\n",
       "  </thead>\n",
       "  <tbody>\n",
       "    <tr>\n",
       "      <th>0</th>\n",
       "      <td>F</td>\n",
       "      <td>Sophia</td>\n",
       "      <td>2010</td>\n",
       "      <td>85720</td>\n",
       "    </tr>\n",
       "    <tr>\n",
       "      <th>1</th>\n",
       "      <td>M</td>\n",
       "      <td>Jacob</td>\n",
       "      <td>2010</td>\n",
       "      <td>79359</td>\n",
       "    </tr>\n",
       "    <tr>\n",
       "      <th>2</th>\n",
       "      <td>F</td>\n",
       "      <td>Isabella</td>\n",
       "      <td>2010</td>\n",
       "      <td>79238</td>\n",
       "    </tr>\n",
       "    <tr>\n",
       "      <th>3</th>\n",
       "      <td>F</td>\n",
       "      <td>Emma</td>\n",
       "      <td>2010</td>\n",
       "      <td>77736</td>\n",
       "    </tr>\n",
       "    <tr>\n",
       "      <th>4</th>\n",
       "      <td>M</td>\n",
       "      <td>Mason</td>\n",
       "      <td>2010</td>\n",
       "      <td>70808</td>\n",
       "    </tr>\n",
       "  </tbody>\n",
       "</table>\n",
       "</div>"
      ],
      "text/plain": [
       "  gender      name  decade  count\n",
       "0      F    Sophia    2010  85720\n",
       "1      M     Jacob    2010  79359\n",
       "2      F  Isabella    2010  79238\n",
       "3      F      Emma    2010  77736\n",
       "4      M     Mason    2010  70808"
      ]
     },
     "execution_count": 7,
     "metadata": {},
     "output_type": "execute_result"
    }
   ],
   "source": [
    "names.head()"
   ]
  },
  {
   "cell_type": "code",
   "execution_count": 8,
   "metadata": {},
   "outputs": [
    {
     "data": {
      "text/html": [
       "<div>\n",
       "<style scoped>\n",
       "    .dataframe tbody tr th:only-of-type {\n",
       "        vertical-align: middle;\n",
       "    }\n",
       "\n",
       "    .dataframe tbody tr th {\n",
       "        vertical-align: top;\n",
       "    }\n",
       "\n",
       "    .dataframe thead th {\n",
       "        text-align: right;\n",
       "    }\n",
       "</style>\n",
       "<table border=\"1\" class=\"dataframe\">\n",
       "  <thead>\n",
       "    <tr style=\"text-align: right;\">\n",
       "      <th></th>\n",
       "      <th>gender</th>\n",
       "      <th>name</th>\n",
       "      <th>decade</th>\n",
       "      <th>count</th>\n",
       "    </tr>\n",
       "  </thead>\n",
       "  <tbody>\n",
       "    <tr>\n",
       "      <th>0</th>\n",
       "      <td>False</td>\n",
       "      <td>False</td>\n",
       "      <td>False</td>\n",
       "      <td>False</td>\n",
       "    </tr>\n",
       "    <tr>\n",
       "      <th>1</th>\n",
       "      <td>False</td>\n",
       "      <td>False</td>\n",
       "      <td>False</td>\n",
       "      <td>False</td>\n",
       "    </tr>\n",
       "    <tr>\n",
       "      <th>2</th>\n",
       "      <td>False</td>\n",
       "      <td>False</td>\n",
       "      <td>False</td>\n",
       "      <td>False</td>\n",
       "    </tr>\n",
       "    <tr>\n",
       "      <th>3</th>\n",
       "      <td>False</td>\n",
       "      <td>False</td>\n",
       "      <td>False</td>\n",
       "      <td>False</td>\n",
       "    </tr>\n",
       "    <tr>\n",
       "      <th>4</th>\n",
       "      <td>False</td>\n",
       "      <td>False</td>\n",
       "      <td>False</td>\n",
       "      <td>False</td>\n",
       "    </tr>\n",
       "    <tr>\n",
       "      <th>...</th>\n",
       "      <td>...</td>\n",
       "      <td>...</td>\n",
       "      <td>...</td>\n",
       "      <td>...</td>\n",
       "    </tr>\n",
       "    <tr>\n",
       "      <th>108379</th>\n",
       "      <td>False</td>\n",
       "      <td>False</td>\n",
       "      <td>False</td>\n",
       "      <td>False</td>\n",
       "    </tr>\n",
       "    <tr>\n",
       "      <th>108380</th>\n",
       "      <td>False</td>\n",
       "      <td>False</td>\n",
       "      <td>False</td>\n",
       "      <td>False</td>\n",
       "    </tr>\n",
       "    <tr>\n",
       "      <th>108381</th>\n",
       "      <td>False</td>\n",
       "      <td>False</td>\n",
       "      <td>False</td>\n",
       "      <td>False</td>\n",
       "    </tr>\n",
       "    <tr>\n",
       "      <th>108382</th>\n",
       "      <td>False</td>\n",
       "      <td>False</td>\n",
       "      <td>False</td>\n",
       "      <td>False</td>\n",
       "    </tr>\n",
       "    <tr>\n",
       "      <th>108383</th>\n",
       "      <td>False</td>\n",
       "      <td>False</td>\n",
       "      <td>False</td>\n",
       "      <td>False</td>\n",
       "    </tr>\n",
       "  </tbody>\n",
       "</table>\n",
       "<p>108384 rows × 4 columns</p>\n",
       "</div>"
      ],
      "text/plain": [
       "        gender   name  decade  count\n",
       "0        False  False   False  False\n",
       "1        False  False   False  False\n",
       "2        False  False   False  False\n",
       "3        False  False   False  False\n",
       "4        False  False   False  False\n",
       "...        ...    ...     ...    ...\n",
       "108379   False  False   False  False\n",
       "108380   False  False   False  False\n",
       "108381   False  False   False  False\n",
       "108382   False  False   False  False\n",
       "108383   False  False   False  False\n",
       "\n",
       "[108384 rows x 4 columns]"
      ]
     },
     "execution_count": 8,
     "metadata": {},
     "output_type": "execute_result"
    }
   ],
   "source": [
    "names.isna()"
   ]
  },
  {
   "cell_type": "code",
   "execution_count": 9,
   "metadata": {},
   "outputs": [
    {
     "data": {
      "text/html": [
       "<div>\n",
       "<style scoped>\n",
       "    .dataframe tbody tr th:only-of-type {\n",
       "        vertical-align: middle;\n",
       "    }\n",
       "\n",
       "    .dataframe tbody tr th {\n",
       "        vertical-align: top;\n",
       "    }\n",
       "\n",
       "    .dataframe thead th {\n",
       "        text-align: right;\n",
       "    }\n",
       "</style>\n",
       "<table border=\"1\" class=\"dataframe\">\n",
       "  <thead>\n",
       "    <tr style=\"text-align: right;\">\n",
       "      <th></th>\n",
       "      <th>gender</th>\n",
       "      <th>name</th>\n",
       "      <th>decade</th>\n",
       "      <th>count</th>\n",
       "    </tr>\n",
       "  </thead>\n",
       "  <tbody>\n",
       "    <tr>\n",
       "      <th>0</th>\n",
       "      <td>False</td>\n",
       "      <td>False</td>\n",
       "      <td>False</td>\n",
       "      <td>False</td>\n",
       "    </tr>\n",
       "    <tr>\n",
       "      <th>1</th>\n",
       "      <td>False</td>\n",
       "      <td>False</td>\n",
       "      <td>False</td>\n",
       "      <td>False</td>\n",
       "    </tr>\n",
       "    <tr>\n",
       "      <th>2</th>\n",
       "      <td>False</td>\n",
       "      <td>False</td>\n",
       "      <td>False</td>\n",
       "      <td>False</td>\n",
       "    </tr>\n",
       "    <tr>\n",
       "      <th>3</th>\n",
       "      <td>False</td>\n",
       "      <td>False</td>\n",
       "      <td>False</td>\n",
       "      <td>False</td>\n",
       "    </tr>\n",
       "    <tr>\n",
       "      <th>4</th>\n",
       "      <td>False</td>\n",
       "      <td>False</td>\n",
       "      <td>False</td>\n",
       "      <td>False</td>\n",
       "    </tr>\n",
       "    <tr>\n",
       "      <th>...</th>\n",
       "      <td>...</td>\n",
       "      <td>...</td>\n",
       "      <td>...</td>\n",
       "      <td>...</td>\n",
       "    </tr>\n",
       "    <tr>\n",
       "      <th>108379</th>\n",
       "      <td>False</td>\n",
       "      <td>False</td>\n",
       "      <td>False</td>\n",
       "      <td>False</td>\n",
       "    </tr>\n",
       "    <tr>\n",
       "      <th>108380</th>\n",
       "      <td>False</td>\n",
       "      <td>False</td>\n",
       "      <td>False</td>\n",
       "      <td>False</td>\n",
       "    </tr>\n",
       "    <tr>\n",
       "      <th>108381</th>\n",
       "      <td>False</td>\n",
       "      <td>False</td>\n",
       "      <td>False</td>\n",
       "      <td>False</td>\n",
       "    </tr>\n",
       "    <tr>\n",
       "      <th>108382</th>\n",
       "      <td>False</td>\n",
       "      <td>False</td>\n",
       "      <td>False</td>\n",
       "      <td>False</td>\n",
       "    </tr>\n",
       "    <tr>\n",
       "      <th>108383</th>\n",
       "      <td>False</td>\n",
       "      <td>False</td>\n",
       "      <td>False</td>\n",
       "      <td>False</td>\n",
       "    </tr>\n",
       "  </tbody>\n",
       "</table>\n",
       "<p>108384 rows × 4 columns</p>\n",
       "</div>"
      ],
      "text/plain": [
       "        gender   name  decade  count\n",
       "0        False  False   False  False\n",
       "1        False  False   False  False\n",
       "2        False  False   False  False\n",
       "3        False  False   False  False\n",
       "4        False  False   False  False\n",
       "...        ...    ...     ...    ...\n",
       "108379   False  False   False  False\n",
       "108380   False  False   False  False\n",
       "108381   False  False   False  False\n",
       "108382   False  False   False  False\n",
       "108383   False  False   False  False\n",
       "\n",
       "[108384 rows x 4 columns]"
      ]
     },
     "execution_count": 9,
     "metadata": {},
     "output_type": "execute_result"
    }
   ],
   "source": [
    "names.isnull()"
   ]
  },
  {
   "cell_type": "code",
   "execution_count": 10,
   "metadata": {},
   "outputs": [
    {
     "name": "stdout",
     "output_type": "stream",
     "text": [
      "<class 'pandas.core.frame.DataFrame'>\n",
      "RangeIndex: 108384 entries, 0 to 108383\n",
      "Data columns (total 4 columns):\n",
      " #   Column  Non-Null Count   Dtype \n",
      "---  ------  --------------   ----- \n",
      " 0   gender  108384 non-null  object\n",
      " 1   name    108384 non-null  object\n",
      " 2   decade  108384 non-null  int64 \n",
      " 3   count   108384 non-null  int64 \n",
      "dtypes: int64(2), object(2)\n",
      "memory usage: 3.3+ MB\n"
     ]
    }
   ],
   "source": [
    "names.info()"
   ]
  },
  {
   "cell_type": "markdown",
   "metadata": {},
   "source": [
    "### The first observations of the data-set gives the indication that there are 4 categories(columns) with 108384 entries.  The us-names-by-decade.csv contains nominal data, also categorical variables such as the Gender and the Name what have no quantitive values and there are numerical discrete data as Decade and Count."
   ]
  },
  {
   "cell_type": "markdown",
   "metadata": {},
   "source": [
    "### There are 29828 unique names, 11 decades from 1990 to 2010 and 295727065 names were given in all decades. There are no missing values in the data-set. "
   ]
  },
  {
   "cell_type": "markdown",
   "metadata": {},
   "source": [
    "## 2. Generate a plot that details the top 5 number of Names for each of the Decades."
   ]
  },
  {
   "cell_type": "markdown",
   "metadata": {},
   "source": [
    "### The task required to create plots with certain condition regarding the individual decades; therefore I created a new data-set for all the individual decades by dropping all non relevant decades. This way my new data-set contained only the required information regarding decades.\n",
    "### As the next step I sorted the values by the count of the names therefore I had the variables in the necessary order.\n",
    "### I overwritten my data-set so it only contains the top 5 names by count, in this way the plotting only displays the relevant information.\n",
    "### As I was requested to show a distribution of values I chose bar chart. My primary variable was a categorical variable and the bar chart also fits this purpose.\n",
    "### I used for the purpose both seaborn and matplotlib libraries. Seaborn was a simple and approach to finish the task, however I had different coding approach with the library to show technical capabilities. Where I changed the coding either I used different coloring for the highest value or just changed the palette. I used matplotlib to higlight some of its useful features, such as the individual bar coloring, or the using of title."
   ]
  },
  {
   "cell_type": "code",
   "execution_count": 11,
   "metadata": {},
   "outputs": [],
   "source": [
    "names_1910 = names[names.decade == 1910]"
   ]
  },
  {
   "cell_type": "code",
   "execution_count": 12,
   "metadata": {},
   "outputs": [
    {
     "data": {
      "text/html": [
       "<div>\n",
       "<style scoped>\n",
       "    .dataframe tbody tr th:only-of-type {\n",
       "        vertical-align: middle;\n",
       "    }\n",
       "\n",
       "    .dataframe tbody tr th {\n",
       "        vertical-align: top;\n",
       "    }\n",
       "\n",
       "    .dataframe thead th {\n",
       "        text-align: right;\n",
       "    }\n",
       "</style>\n",
       "<table border=\"1\" class=\"dataframe\">\n",
       "  <thead>\n",
       "    <tr style=\"text-align: right;\">\n",
       "      <th></th>\n",
       "      <th>gender</th>\n",
       "      <th>name</th>\n",
       "      <th>decade</th>\n",
       "      <th>count</th>\n",
       "    </tr>\n",
       "  </thead>\n",
       "  <tbody>\n",
       "    <tr>\n",
       "      <th>102705</th>\n",
       "      <td>F</td>\n",
       "      <td>Mary</td>\n",
       "      <td>1910</td>\n",
       "      <td>478634</td>\n",
       "    </tr>\n",
       "    <tr>\n",
       "      <th>102706</th>\n",
       "      <td>M</td>\n",
       "      <td>John</td>\n",
       "      <td>1910</td>\n",
       "      <td>376321</td>\n",
       "    </tr>\n",
       "    <tr>\n",
       "      <th>102707</th>\n",
       "      <td>M</td>\n",
       "      <td>William</td>\n",
       "      <td>1910</td>\n",
       "      <td>303027</td>\n",
       "    </tr>\n",
       "    <tr>\n",
       "      <th>102708</th>\n",
       "      <td>M</td>\n",
       "      <td>James</td>\n",
       "      <td>1910</td>\n",
       "      <td>275075</td>\n",
       "    </tr>\n",
       "    <tr>\n",
       "      <th>102709</th>\n",
       "      <td>F</td>\n",
       "      <td>Helen</td>\n",
       "      <td>1910</td>\n",
       "      <td>248150</td>\n",
       "    </tr>\n",
       "  </tbody>\n",
       "</table>\n",
       "</div>"
      ],
      "text/plain": [
       "       gender     name  decade   count\n",
       "102705      F     Mary    1910  478634\n",
       "102706      M     John    1910  376321\n",
       "102707      M  William    1910  303027\n",
       "102708      M    James    1910  275075\n",
       "102709      F    Helen    1910  248150"
      ]
     },
     "execution_count": 12,
     "metadata": {},
     "output_type": "execute_result"
    }
   ],
   "source": [
    "names_1910.head()"
   ]
  },
  {
   "cell_type": "code",
   "execution_count": 13,
   "metadata": {},
   "outputs": [
    {
     "data": {
      "text/html": [
       "<div>\n",
       "<style scoped>\n",
       "    .dataframe tbody tr th:only-of-type {\n",
       "        vertical-align: middle;\n",
       "    }\n",
       "\n",
       "    .dataframe tbody tr th {\n",
       "        vertical-align: top;\n",
       "    }\n",
       "\n",
       "    .dataframe thead th {\n",
       "        text-align: right;\n",
       "    }\n",
       "</style>\n",
       "<table border=\"1\" class=\"dataframe\">\n",
       "  <thead>\n",
       "    <tr style=\"text-align: right;\">\n",
       "      <th></th>\n",
       "      <th>gender</th>\n",
       "      <th>name</th>\n",
       "      <th>decade</th>\n",
       "      <th>count</th>\n",
       "    </tr>\n",
       "  </thead>\n",
       "  <tbody>\n",
       "    <tr>\n",
       "      <th>108383</th>\n",
       "      <td>M</td>\n",
       "      <td>Harless</td>\n",
       "      <td>1910</td>\n",
       "      <td>5</td>\n",
       "    </tr>\n",
       "    <tr>\n",
       "      <th>107793</th>\n",
       "      <td>M</td>\n",
       "      <td>Colby</td>\n",
       "      <td>1910</td>\n",
       "      <td>5</td>\n",
       "    </tr>\n",
       "    <tr>\n",
       "      <th>107792</th>\n",
       "      <td>M</td>\n",
       "      <td>Benoit</td>\n",
       "      <td>1910</td>\n",
       "      <td>5</td>\n",
       "    </tr>\n",
       "    <tr>\n",
       "      <th>107791</th>\n",
       "      <td>M</td>\n",
       "      <td>Loomis</td>\n",
       "      <td>1910</td>\n",
       "      <td>5</td>\n",
       "    </tr>\n",
       "    <tr>\n",
       "      <th>107790</th>\n",
       "      <td>M</td>\n",
       "      <td>Erlon</td>\n",
       "      <td>1910</td>\n",
       "      <td>5</td>\n",
       "    </tr>\n",
       "    <tr>\n",
       "      <th>...</th>\n",
       "      <td>...</td>\n",
       "      <td>...</td>\n",
       "      <td>...</td>\n",
       "      <td>...</td>\n",
       "    </tr>\n",
       "    <tr>\n",
       "      <th>102709</th>\n",
       "      <td>F</td>\n",
       "      <td>Helen</td>\n",
       "      <td>1910</td>\n",
       "      <td>248150</td>\n",
       "    </tr>\n",
       "    <tr>\n",
       "      <th>102708</th>\n",
       "      <td>M</td>\n",
       "      <td>James</td>\n",
       "      <td>1910</td>\n",
       "      <td>275075</td>\n",
       "    </tr>\n",
       "    <tr>\n",
       "      <th>102707</th>\n",
       "      <td>M</td>\n",
       "      <td>William</td>\n",
       "      <td>1910</td>\n",
       "      <td>303027</td>\n",
       "    </tr>\n",
       "    <tr>\n",
       "      <th>102706</th>\n",
       "      <td>M</td>\n",
       "      <td>John</td>\n",
       "      <td>1910</td>\n",
       "      <td>376321</td>\n",
       "    </tr>\n",
       "    <tr>\n",
       "      <th>102705</th>\n",
       "      <td>F</td>\n",
       "      <td>Mary</td>\n",
       "      <td>1910</td>\n",
       "      <td>478634</td>\n",
       "    </tr>\n",
       "  </tbody>\n",
       "</table>\n",
       "<p>5679 rows × 4 columns</p>\n",
       "</div>"
      ],
      "text/plain": [
       "       gender     name  decade   count\n",
       "108383      M  Harless    1910       5\n",
       "107793      M    Colby    1910       5\n",
       "107792      M   Benoit    1910       5\n",
       "107791      M   Loomis    1910       5\n",
       "107790      M    Erlon    1910       5\n",
       "...       ...      ...     ...     ...\n",
       "102709      F    Helen    1910  248150\n",
       "102708      M    James    1910  275075\n",
       "102707      M  William    1910  303027\n",
       "102706      M     John    1910  376321\n",
       "102705      F     Mary    1910  478634\n",
       "\n",
       "[5679 rows x 4 columns]"
      ]
     },
     "execution_count": 13,
     "metadata": {},
     "output_type": "execute_result"
    }
   ],
   "source": [
    "names_1910.sort_values(by=['count'])"
   ]
  },
  {
   "cell_type": "code",
   "execution_count": 14,
   "metadata": {},
   "outputs": [
    {
     "data": {
      "text/html": [
       "<div>\n",
       "<style scoped>\n",
       "    .dataframe tbody tr th:only-of-type {\n",
       "        vertical-align: middle;\n",
       "    }\n",
       "\n",
       "    .dataframe tbody tr th {\n",
       "        vertical-align: top;\n",
       "    }\n",
       "\n",
       "    .dataframe thead th {\n",
       "        text-align: right;\n",
       "    }\n",
       "</style>\n",
       "<table border=\"1\" class=\"dataframe\">\n",
       "  <thead>\n",
       "    <tr style=\"text-align: right;\">\n",
       "      <th></th>\n",
       "      <th>gender</th>\n",
       "      <th>name</th>\n",
       "      <th>decade</th>\n",
       "      <th>count</th>\n",
       "    </tr>\n",
       "  </thead>\n",
       "  <tbody>\n",
       "    <tr>\n",
       "      <th>102705</th>\n",
       "      <td>F</td>\n",
       "      <td>Mary</td>\n",
       "      <td>1910</td>\n",
       "      <td>478634</td>\n",
       "    </tr>\n",
       "    <tr>\n",
       "      <th>102706</th>\n",
       "      <td>M</td>\n",
       "      <td>John</td>\n",
       "      <td>1910</td>\n",
       "      <td>376321</td>\n",
       "    </tr>\n",
       "    <tr>\n",
       "      <th>102707</th>\n",
       "      <td>M</td>\n",
       "      <td>William</td>\n",
       "      <td>1910</td>\n",
       "      <td>303027</td>\n",
       "    </tr>\n",
       "    <tr>\n",
       "      <th>102708</th>\n",
       "      <td>M</td>\n",
       "      <td>James</td>\n",
       "      <td>1910</td>\n",
       "      <td>275075</td>\n",
       "    </tr>\n",
       "    <tr>\n",
       "      <th>102709</th>\n",
       "      <td>F</td>\n",
       "      <td>Helen</td>\n",
       "      <td>1910</td>\n",
       "      <td>248150</td>\n",
       "    </tr>\n",
       "  </tbody>\n",
       "</table>\n",
       "</div>"
      ],
      "text/plain": [
       "       gender     name  decade   count\n",
       "102705      F     Mary    1910  478634\n",
       "102706      M     John    1910  376321\n",
       "102707      M  William    1910  303027\n",
       "102708      M    James    1910  275075\n",
       "102709      F    Helen    1910  248150"
      ]
     },
     "execution_count": 14,
     "metadata": {},
     "output_type": "execute_result"
    }
   ],
   "source": [
    "names_1910.head()"
   ]
  },
  {
   "cell_type": "code",
   "execution_count": 15,
   "metadata": {},
   "outputs": [],
   "source": [
    "names_1910_top5 = names_1910.head()"
   ]
  },
  {
   "cell_type": "code",
   "execution_count": 16,
   "metadata": {},
   "outputs": [
    {
     "data": {
      "text/html": [
       "<div>\n",
       "<style scoped>\n",
       "    .dataframe tbody tr th:only-of-type {\n",
       "        vertical-align: middle;\n",
       "    }\n",
       "\n",
       "    .dataframe tbody tr th {\n",
       "        vertical-align: top;\n",
       "    }\n",
       "\n",
       "    .dataframe thead th {\n",
       "        text-align: right;\n",
       "    }\n",
       "</style>\n",
       "<table border=\"1\" class=\"dataframe\">\n",
       "  <thead>\n",
       "    <tr style=\"text-align: right;\">\n",
       "      <th></th>\n",
       "      <th>gender</th>\n",
       "      <th>name</th>\n",
       "      <th>decade</th>\n",
       "      <th>count</th>\n",
       "    </tr>\n",
       "  </thead>\n",
       "  <tbody>\n",
       "    <tr>\n",
       "      <th>102705</th>\n",
       "      <td>F</td>\n",
       "      <td>Mary</td>\n",
       "      <td>1910</td>\n",
       "      <td>478634</td>\n",
       "    </tr>\n",
       "    <tr>\n",
       "      <th>102706</th>\n",
       "      <td>M</td>\n",
       "      <td>John</td>\n",
       "      <td>1910</td>\n",
       "      <td>376321</td>\n",
       "    </tr>\n",
       "    <tr>\n",
       "      <th>102707</th>\n",
       "      <td>M</td>\n",
       "      <td>William</td>\n",
       "      <td>1910</td>\n",
       "      <td>303027</td>\n",
       "    </tr>\n",
       "    <tr>\n",
       "      <th>102708</th>\n",
       "      <td>M</td>\n",
       "      <td>James</td>\n",
       "      <td>1910</td>\n",
       "      <td>275075</td>\n",
       "    </tr>\n",
       "    <tr>\n",
       "      <th>102709</th>\n",
       "      <td>F</td>\n",
       "      <td>Helen</td>\n",
       "      <td>1910</td>\n",
       "      <td>248150</td>\n",
       "    </tr>\n",
       "  </tbody>\n",
       "</table>\n",
       "</div>"
      ],
      "text/plain": [
       "       gender     name  decade   count\n",
       "102705      F     Mary    1910  478634\n",
       "102706      M     John    1910  376321\n",
       "102707      M  William    1910  303027\n",
       "102708      M    James    1910  275075\n",
       "102709      F    Helen    1910  248150"
      ]
     },
     "execution_count": 16,
     "metadata": {},
     "output_type": "execute_result"
    }
   ],
   "source": [
    "names_1910_top5"
   ]
  },
  {
   "cell_type": "code",
   "execution_count": 17,
   "metadata": {},
   "outputs": [
    {
     "data": {
      "image/png": "[encoded data removed]",
      "text/plain": [
       "<Figure size 432x288 with 1 Axes>"
      ]
     },
     "metadata": {
      "needs_background": "light"
     },
     "output_type": "display_data"
    }
   ],
   "source": [
    "ax = sns.barplot(x='name', y='count', data=names_1910_top5)"
   ]
  },
  {
   "cell_type": "code",
   "execution_count": 18,
   "metadata": {},
   "outputs": [],
   "source": [
    "names_1920 = names[names.decade == 1920]"
   ]
  },
  {
   "cell_type": "code",
   "execution_count": 19,
   "metadata": {},
   "outputs": [
    {
     "data": {
      "text/html": [
       "<div>\n",
       "<style scoped>\n",
       "    .dataframe tbody tr th:only-of-type {\n",
       "        vertical-align: middle;\n",
       "    }\n",
       "\n",
       "    .dataframe tbody tr th {\n",
       "        vertical-align: top;\n",
       "    }\n",
       "\n",
       "    .dataframe thead th {\n",
       "        text-align: right;\n",
       "    }\n",
       "</style>\n",
       "<table border=\"1\" class=\"dataframe\">\n",
       "  <thead>\n",
       "    <tr style=\"text-align: right;\">\n",
       "      <th></th>\n",
       "      <th>gender</th>\n",
       "      <th>name</th>\n",
       "      <th>decade</th>\n",
       "      <th>count</th>\n",
       "    </tr>\n",
       "  </thead>\n",
       "  <tbody>\n",
       "    <tr>\n",
       "      <th>95806</th>\n",
       "      <td>F</td>\n",
       "      <td>Mary</td>\n",
       "      <td>1920</td>\n",
       "      <td>701709</td>\n",
       "    </tr>\n",
       "    <tr>\n",
       "      <th>95807</th>\n",
       "      <td>M</td>\n",
       "      <td>Robert</td>\n",
       "      <td>1920</td>\n",
       "      <td>576322</td>\n",
       "    </tr>\n",
       "    <tr>\n",
       "      <th>95808</th>\n",
       "      <td>M</td>\n",
       "      <td>John</td>\n",
       "      <td>1920</td>\n",
       "      <td>564033</td>\n",
       "    </tr>\n",
       "    <tr>\n",
       "      <th>95809</th>\n",
       "      <td>M</td>\n",
       "      <td>James</td>\n",
       "      <td>1920</td>\n",
       "      <td>515296</td>\n",
       "    </tr>\n",
       "    <tr>\n",
       "      <th>95810</th>\n",
       "      <td>M</td>\n",
       "      <td>William</td>\n",
       "      <td>1920</td>\n",
       "      <td>512373</td>\n",
       "    </tr>\n",
       "  </tbody>\n",
       "</table>\n",
       "</div>"
      ],
      "text/plain": [
       "      gender     name  decade   count\n",
       "95806      F     Mary    1920  701709\n",
       "95807      M   Robert    1920  576322\n",
       "95808      M     John    1920  564033\n",
       "95809      M    James    1920  515296\n",
       "95810      M  William    1920  512373"
      ]
     },
     "execution_count": 19,
     "metadata": {},
     "output_type": "execute_result"
    }
   ],
   "source": [
    "names_1920.head()"
   ]
  },
  {
   "cell_type": "code",
   "execution_count": 20,
   "metadata": {},
   "outputs": [
    {
     "data": {
      "text/html": [
       "<div>\n",
       "<style scoped>\n",
       "    .dataframe tbody tr th:only-of-type {\n",
       "        vertical-align: middle;\n",
       "    }\n",
       "\n",
       "    .dataframe tbody tr th {\n",
       "        vertical-align: top;\n",
       "    }\n",
       "\n",
       "    .dataframe thead th {\n",
       "        text-align: right;\n",
       "    }\n",
       "</style>\n",
       "<table border=\"1\" class=\"dataframe\">\n",
       "  <thead>\n",
       "    <tr style=\"text-align: right;\">\n",
       "      <th></th>\n",
       "      <th>gender</th>\n",
       "      <th>name</th>\n",
       "      <th>decade</th>\n",
       "      <th>count</th>\n",
       "    </tr>\n",
       "  </thead>\n",
       "  <tbody>\n",
       "    <tr>\n",
       "      <th>102704</th>\n",
       "      <td>M</td>\n",
       "      <td>Naaman</td>\n",
       "      <td>1920</td>\n",
       "      <td>5</td>\n",
       "    </tr>\n",
       "    <tr>\n",
       "      <th>102007</th>\n",
       "      <td>M</td>\n",
       "      <td>Alvey</td>\n",
       "      <td>1920</td>\n",
       "      <td>5</td>\n",
       "    </tr>\n",
       "    <tr>\n",
       "      <th>102006</th>\n",
       "      <td>M</td>\n",
       "      <td>Kennard</td>\n",
       "      <td>1920</td>\n",
       "      <td>5</td>\n",
       "    </tr>\n",
       "    <tr>\n",
       "      <th>102005</th>\n",
       "      <td>M</td>\n",
       "      <td>Medford</td>\n",
       "      <td>1920</td>\n",
       "      <td>5</td>\n",
       "    </tr>\n",
       "    <tr>\n",
       "      <th>102004</th>\n",
       "      <td>F</td>\n",
       "      <td>Irena</td>\n",
       "      <td>1920</td>\n",
       "      <td>5</td>\n",
       "    </tr>\n",
       "    <tr>\n",
       "      <th>...</th>\n",
       "      <td>...</td>\n",
       "      <td>...</td>\n",
       "      <td>...</td>\n",
       "      <td>...</td>\n",
       "    </tr>\n",
       "    <tr>\n",
       "      <th>95810</th>\n",
       "      <td>M</td>\n",
       "      <td>William</td>\n",
       "      <td>1920</td>\n",
       "      <td>512373</td>\n",
       "    </tr>\n",
       "    <tr>\n",
       "      <th>95809</th>\n",
       "      <td>M</td>\n",
       "      <td>James</td>\n",
       "      <td>1920</td>\n",
       "      <td>515296</td>\n",
       "    </tr>\n",
       "    <tr>\n",
       "      <th>95808</th>\n",
       "      <td>M</td>\n",
       "      <td>John</td>\n",
       "      <td>1920</td>\n",
       "      <td>564033</td>\n",
       "    </tr>\n",
       "    <tr>\n",
       "      <th>95807</th>\n",
       "      <td>M</td>\n",
       "      <td>Robert</td>\n",
       "      <td>1920</td>\n",
       "      <td>576322</td>\n",
       "    </tr>\n",
       "    <tr>\n",
       "      <th>95806</th>\n",
       "      <td>F</td>\n",
       "      <td>Mary</td>\n",
       "      <td>1920</td>\n",
       "      <td>701709</td>\n",
       "    </tr>\n",
       "  </tbody>\n",
       "</table>\n",
       "<p>6899 rows × 4 columns</p>\n",
       "</div>"
      ],
      "text/plain": [
       "       gender     name  decade   count\n",
       "102704      M   Naaman    1920       5\n",
       "102007      M    Alvey    1920       5\n",
       "102006      M  Kennard    1920       5\n",
       "102005      M  Medford    1920       5\n",
       "102004      F    Irena    1920       5\n",
       "...       ...      ...     ...     ...\n",
       "95810       M  William    1920  512373\n",
       "95809       M    James    1920  515296\n",
       "95808       M     John    1920  564033\n",
       "95807       M   Robert    1920  576322\n",
       "95806       F     Mary    1920  701709\n",
       "\n",
       "[6899 rows x 4 columns]"
      ]
     },
     "execution_count": 20,
     "metadata": {},
     "output_type": "execute_result"
    }
   ],
   "source": [
    "names_1920.sort_values(by=['count'])"
   ]
  },
  {
   "cell_type": "code",
   "execution_count": 21,
   "metadata": {},
   "outputs": [
    {
     "data": {
      "text/html": [
       "<div>\n",
       "<style scoped>\n",
       "    .dataframe tbody tr th:only-of-type {\n",
       "        vertical-align: middle;\n",
       "    }\n",
       "\n",
       "    .dataframe tbody tr th {\n",
       "        vertical-align: top;\n",
       "    }\n",
       "\n",
       "    .dataframe thead th {\n",
       "        text-align: right;\n",
       "    }\n",
       "</style>\n",
       "<table border=\"1\" class=\"dataframe\">\n",
       "  <thead>\n",
       "    <tr style=\"text-align: right;\">\n",
       "      <th></th>\n",
       "      <th>gender</th>\n",
       "      <th>name</th>\n",
       "      <th>decade</th>\n",
       "      <th>count</th>\n",
       "    </tr>\n",
       "  </thead>\n",
       "  <tbody>\n",
       "    <tr>\n",
       "      <th>95806</th>\n",
       "      <td>F</td>\n",
       "      <td>Mary</td>\n",
       "      <td>1920</td>\n",
       "      <td>701709</td>\n",
       "    </tr>\n",
       "    <tr>\n",
       "      <th>95807</th>\n",
       "      <td>M</td>\n",
       "      <td>Robert</td>\n",
       "      <td>1920</td>\n",
       "      <td>576322</td>\n",
       "    </tr>\n",
       "    <tr>\n",
       "      <th>95808</th>\n",
       "      <td>M</td>\n",
       "      <td>John</td>\n",
       "      <td>1920</td>\n",
       "      <td>564033</td>\n",
       "    </tr>\n",
       "    <tr>\n",
       "      <th>95809</th>\n",
       "      <td>M</td>\n",
       "      <td>James</td>\n",
       "      <td>1920</td>\n",
       "      <td>515296</td>\n",
       "    </tr>\n",
       "    <tr>\n",
       "      <th>95810</th>\n",
       "      <td>M</td>\n",
       "      <td>William</td>\n",
       "      <td>1920</td>\n",
       "      <td>512373</td>\n",
       "    </tr>\n",
       "  </tbody>\n",
       "</table>\n",
       "</div>"
      ],
      "text/plain": [
       "      gender     name  decade   count\n",
       "95806      F     Mary    1920  701709\n",
       "95807      M   Robert    1920  576322\n",
       "95808      M     John    1920  564033\n",
       "95809      M    James    1920  515296\n",
       "95810      M  William    1920  512373"
      ]
     },
     "execution_count": 21,
     "metadata": {},
     "output_type": "execute_result"
    }
   ],
   "source": [
    "names_1920.head()"
   ]
  },
  {
   "cell_type": "code",
   "execution_count": 22,
   "metadata": {},
   "outputs": [],
   "source": [
    "names_1920_top5 = names_1920.head()"
   ]
  },
  {
   "cell_type": "code",
   "execution_count": 23,
   "metadata": {},
   "outputs": [
    {
     "data": {
      "text/html": [
       "<div>\n",
       "<style scoped>\n",
       "    .dataframe tbody tr th:only-of-type {\n",
       "        vertical-align: middle;\n",
       "    }\n",
       "\n",
       "    .dataframe tbody tr th {\n",
       "        vertical-align: top;\n",
       "    }\n",
       "\n",
       "    .dataframe thead th {\n",
       "        text-align: right;\n",
       "    }\n",
       "</style>\n",
       "<table border=\"1\" class=\"dataframe\">\n",
       "  <thead>\n",
       "    <tr style=\"text-align: right;\">\n",
       "      <th></th>\n",
       "      <th>gender</th>\n",
       "      <th>name</th>\n",
       "      <th>decade</th>\n",
       "      <th>count</th>\n",
       "    </tr>\n",
       "  </thead>\n",
       "  <tbody>\n",
       "    <tr>\n",
       "      <th>95806</th>\n",
       "      <td>F</td>\n",
       "      <td>Mary</td>\n",
       "      <td>1920</td>\n",
       "      <td>701709</td>\n",
       "    </tr>\n",
       "    <tr>\n",
       "      <th>95807</th>\n",
       "      <td>M</td>\n",
       "      <td>Robert</td>\n",
       "      <td>1920</td>\n",
       "      <td>576322</td>\n",
       "    </tr>\n",
       "    <tr>\n",
       "      <th>95808</th>\n",
       "      <td>M</td>\n",
       "      <td>John</td>\n",
       "      <td>1920</td>\n",
       "      <td>564033</td>\n",
       "    </tr>\n",
       "    <tr>\n",
       "      <th>95809</th>\n",
       "      <td>M</td>\n",
       "      <td>James</td>\n",
       "      <td>1920</td>\n",
       "      <td>515296</td>\n",
       "    </tr>\n",
       "    <tr>\n",
       "      <th>95810</th>\n",
       "      <td>M</td>\n",
       "      <td>William</td>\n",
       "      <td>1920</td>\n",
       "      <td>512373</td>\n",
       "    </tr>\n",
       "  </tbody>\n",
       "</table>\n",
       "</div>"
      ],
      "text/plain": [
       "      gender     name  decade   count\n",
       "95806      F     Mary    1920  701709\n",
       "95807      M   Robert    1920  576322\n",
       "95808      M     John    1920  564033\n",
       "95809      M    James    1920  515296\n",
       "95810      M  William    1920  512373"
      ]
     },
     "execution_count": 23,
     "metadata": {},
     "output_type": "execute_result"
    }
   ],
   "source": [
    "names_1920_top5"
   ]
  },
  {
   "cell_type": "code",
   "execution_count": 24,
   "metadata": {},
   "outputs": [
    {
     "data": {
      "image/png": "[encoded data removed]",
      "text/plain": [
       "<Figure size 432x288 with 1 Axes>"
      ]
     },
     "metadata": {
      "needs_background": "light"
     },
     "output_type": "display_data"
    }
   ],
   "source": [
    "values = np.array(names_1920_top5['count'].values)\n",
    "clrs = ['grey' if (x < max(values)) else 'red' for x in values ]\n",
    "ax = sns.barplot(x='name', y='count', palette=clrs, data=names_1920_top5)"
   ]
  },
  {
   "cell_type": "code",
   "execution_count": 25,
   "metadata": {},
   "outputs": [],
   "source": [
    "names_1930 = names[names.decade == 1930]"
   ]
  },
  {
   "cell_type": "code",
   "execution_count": 26,
   "metadata": {},
   "outputs": [
    {
     "data": {
      "text/html": [
       "<div>\n",
       "<style scoped>\n",
       "    .dataframe tbody tr th:only-of-type {\n",
       "        vertical-align: middle;\n",
       "    }\n",
       "\n",
       "    .dataframe tbody tr th {\n",
       "        vertical-align: top;\n",
       "    }\n",
       "\n",
       "    .dataframe thead th {\n",
       "        text-align: right;\n",
       "    }\n",
       "</style>\n",
       "<table border=\"1\" class=\"dataframe\">\n",
       "  <thead>\n",
       "    <tr style=\"text-align: right;\">\n",
       "      <th></th>\n",
       "      <th>gender</th>\n",
       "      <th>name</th>\n",
       "      <th>decade</th>\n",
       "      <th>count</th>\n",
       "    </tr>\n",
       "  </thead>\n",
       "  <tbody>\n",
       "    <tr>\n",
       "      <th>89923</th>\n",
       "      <td>M</td>\n",
       "      <td>Robert</td>\n",
       "      <td>1930</td>\n",
       "      <td>590599</td>\n",
       "    </tr>\n",
       "    <tr>\n",
       "      <th>89924</th>\n",
       "      <td>F</td>\n",
       "      <td>Mary</td>\n",
       "      <td>1930</td>\n",
       "      <td>572868</td>\n",
       "    </tr>\n",
       "    <tr>\n",
       "      <th>89925</th>\n",
       "      <td>M</td>\n",
       "      <td>James</td>\n",
       "      <td>1930</td>\n",
       "      <td>547275</td>\n",
       "    </tr>\n",
       "    <tr>\n",
       "      <th>89926</th>\n",
       "      <td>M</td>\n",
       "      <td>John</td>\n",
       "      <td>1930</td>\n",
       "      <td>487777</td>\n",
       "    </tr>\n",
       "    <tr>\n",
       "      <th>89927</th>\n",
       "      <td>M</td>\n",
       "      <td>William</td>\n",
       "      <td>1930</td>\n",
       "      <td>416559</td>\n",
       "    </tr>\n",
       "  </tbody>\n",
       "</table>\n",
       "</div>"
      ],
      "text/plain": [
       "      gender     name  decade   count\n",
       "89923      M   Robert    1930  590599\n",
       "89924      F     Mary    1930  572868\n",
       "89925      M    James    1930  547275\n",
       "89926      M     John    1930  487777\n",
       "89927      M  William    1930  416559"
      ]
     },
     "execution_count": 26,
     "metadata": {},
     "output_type": "execute_result"
    }
   ],
   "source": [
    "names_1930.head()"
   ]
  },
  {
   "cell_type": "code",
   "execution_count": 27,
   "metadata": {},
   "outputs": [
    {
     "data": {
      "text/html": [
       "<div>\n",
       "<style scoped>\n",
       "    .dataframe tbody tr th:only-of-type {\n",
       "        vertical-align: middle;\n",
       "    }\n",
       "\n",
       "    .dataframe tbody tr th {\n",
       "        vertical-align: top;\n",
       "    }\n",
       "\n",
       "    .dataframe thead th {\n",
       "        text-align: right;\n",
       "    }\n",
       "</style>\n",
       "<table border=\"1\" class=\"dataframe\">\n",
       "  <thead>\n",
       "    <tr style=\"text-align: right;\">\n",
       "      <th></th>\n",
       "      <th>gender</th>\n",
       "      <th>name</th>\n",
       "      <th>decade</th>\n",
       "      <th>count</th>\n",
       "    </tr>\n",
       "  </thead>\n",
       "  <tbody>\n",
       "    <tr>\n",
       "      <th>95805</th>\n",
       "      <td>M</td>\n",
       "      <td>Cledith</td>\n",
       "      <td>1930</td>\n",
       "      <td>5</td>\n",
       "    </tr>\n",
       "    <tr>\n",
       "      <th>95262</th>\n",
       "      <td>M</td>\n",
       "      <td>Moise</td>\n",
       "      <td>1930</td>\n",
       "      <td>5</td>\n",
       "    </tr>\n",
       "    <tr>\n",
       "      <th>95261</th>\n",
       "      <td>M</td>\n",
       "      <td>Leory</td>\n",
       "      <td>1930</td>\n",
       "      <td>5</td>\n",
       "    </tr>\n",
       "    <tr>\n",
       "      <th>95260</th>\n",
       "      <td>M</td>\n",
       "      <td>Ryan</td>\n",
       "      <td>1930</td>\n",
       "      <td>5</td>\n",
       "    </tr>\n",
       "    <tr>\n",
       "      <th>95259</th>\n",
       "      <td>M</td>\n",
       "      <td>Pascal</td>\n",
       "      <td>1930</td>\n",
       "      <td>5</td>\n",
       "    </tr>\n",
       "    <tr>\n",
       "      <th>...</th>\n",
       "      <td>...</td>\n",
       "      <td>...</td>\n",
       "      <td>...</td>\n",
       "      <td>...</td>\n",
       "    </tr>\n",
       "    <tr>\n",
       "      <th>89927</th>\n",
       "      <td>M</td>\n",
       "      <td>William</td>\n",
       "      <td>1930</td>\n",
       "      <td>416559</td>\n",
       "    </tr>\n",
       "    <tr>\n",
       "      <th>89926</th>\n",
       "      <td>M</td>\n",
       "      <td>John</td>\n",
       "      <td>1930</td>\n",
       "      <td>487777</td>\n",
       "    </tr>\n",
       "    <tr>\n",
       "      <th>89925</th>\n",
       "      <td>M</td>\n",
       "      <td>James</td>\n",
       "      <td>1930</td>\n",
       "      <td>547275</td>\n",
       "    </tr>\n",
       "    <tr>\n",
       "      <th>89924</th>\n",
       "      <td>F</td>\n",
       "      <td>Mary</td>\n",
       "      <td>1930</td>\n",
       "      <td>572868</td>\n",
       "    </tr>\n",
       "    <tr>\n",
       "      <th>89923</th>\n",
       "      <td>M</td>\n",
       "      <td>Robert</td>\n",
       "      <td>1930</td>\n",
       "      <td>590599</td>\n",
       "    </tr>\n",
       "  </tbody>\n",
       "</table>\n",
       "<p>5883 rows × 4 columns</p>\n",
       "</div>"
      ],
      "text/plain": [
       "      gender     name  decade   count\n",
       "95805      M  Cledith    1930       5\n",
       "95262      M    Moise    1930       5\n",
       "95261      M    Leory    1930       5\n",
       "95260      M     Ryan    1930       5\n",
       "95259      M   Pascal    1930       5\n",
       "...      ...      ...     ...     ...\n",
       "89927      M  William    1930  416559\n",
       "89926      M     John    1930  487777\n",
       "89925      M    James    1930  547275\n",
       "89924      F     Mary    1930  572868\n",
       "89923      M   Robert    1930  590599\n",
       "\n",
       "[5883 rows x 4 columns]"
      ]
     },
     "execution_count": 27,
     "metadata": {},
     "output_type": "execute_result"
    }
   ],
   "source": [
    "names_1930.sort_values(by=['count'])"
   ]
  },
  {
   "cell_type": "code",
   "execution_count": 28,
   "metadata": {},
   "outputs": [
    {
     "data": {
      "text/html": [
       "<div>\n",
       "<style scoped>\n",
       "    .dataframe tbody tr th:only-of-type {\n",
       "        vertical-align: middle;\n",
       "    }\n",
       "\n",
       "    .dataframe tbody tr th {\n",
       "        vertical-align: top;\n",
       "    }\n",
       "\n",
       "    .dataframe thead th {\n",
       "        text-align: right;\n",
       "    }\n",
       "</style>\n",
       "<table border=\"1\" class=\"dataframe\">\n",
       "  <thead>\n",
       "    <tr style=\"text-align: right;\">\n",
       "      <th></th>\n",
       "      <th>gender</th>\n",
       "      <th>name</th>\n",
       "      <th>decade</th>\n",
       "      <th>count</th>\n",
       "    </tr>\n",
       "  </thead>\n",
       "  <tbody>\n",
       "    <tr>\n",
       "      <th>89923</th>\n",
       "      <td>M</td>\n",
       "      <td>Robert</td>\n",
       "      <td>1930</td>\n",
       "      <td>590599</td>\n",
       "    </tr>\n",
       "    <tr>\n",
       "      <th>89924</th>\n",
       "      <td>F</td>\n",
       "      <td>Mary</td>\n",
       "      <td>1930</td>\n",
       "      <td>572868</td>\n",
       "    </tr>\n",
       "    <tr>\n",
       "      <th>89925</th>\n",
       "      <td>M</td>\n",
       "      <td>James</td>\n",
       "      <td>1930</td>\n",
       "      <td>547275</td>\n",
       "    </tr>\n",
       "    <tr>\n",
       "      <th>89926</th>\n",
       "      <td>M</td>\n",
       "      <td>John</td>\n",
       "      <td>1930</td>\n",
       "      <td>487777</td>\n",
       "    </tr>\n",
       "    <tr>\n",
       "      <th>89927</th>\n",
       "      <td>M</td>\n",
       "      <td>William</td>\n",
       "      <td>1930</td>\n",
       "      <td>416559</td>\n",
       "    </tr>\n",
       "  </tbody>\n",
       "</table>\n",
       "</div>"
      ],
      "text/plain": [
       "      gender     name  decade   count\n",
       "89923      M   Robert    1930  590599\n",
       "89924      F     Mary    1930  572868\n",
       "89925      M    James    1930  547275\n",
       "89926      M     John    1930  487777\n",
       "89927      M  William    1930  416559"
      ]
     },
     "execution_count": 28,
     "metadata": {},
     "output_type": "execute_result"
    }
   ],
   "source": [
    "names_1930.head()"
   ]
  },
  {
   "cell_type": "code",
   "execution_count": 29,
   "metadata": {},
   "outputs": [],
   "source": [
    "names_1930_top5 = names_1930.head()"
   ]
  },
  {
   "cell_type": "code",
   "execution_count": 30,
   "metadata": {},
   "outputs": [
    {
     "data": {
      "image/png": "[encoded data removed]",
      "text/plain": [
       "<Figure size 432x288 with 1 Axes>"
      ]
     },
     "metadata": {
      "needs_background": "light"
     },
     "output_type": "display_data"
    }
   ],
   "source": [
    "plt.bar(\"name\", \"count\", data=names_1930_top5, color=[\"blue\",\"red\",\"blue\",\"blue\",\"blue\"])\n",
    "plt.xlabel(\"Names\")\n",
    "plt.ylabel(\"Times of the name given\")\n",
    "plt.title(\"Top 5 names in 1930\")\n",
    "plt.show()"
   ]
  },
  {
   "cell_type": "code",
   "execution_count": 31,
   "metadata": {},
   "outputs": [],
   "source": [
    "names_1940 = names[names.decade == 1940]"
   ]
  },
  {
   "cell_type": "code",
   "execution_count": 32,
   "metadata": {},
   "outputs": [
    {
     "data": {
      "text/html": [
       "<div>\n",
       "<style scoped>\n",
       "    .dataframe tbody tr th:only-of-type {\n",
       "        vertical-align: middle;\n",
       "    }\n",
       "\n",
       "    .dataframe tbody tr th {\n",
       "        vertical-align: top;\n",
       "    }\n",
       "\n",
       "    .dataframe thead th {\n",
       "        text-align: right;\n",
       "    }\n",
       "</style>\n",
       "<table border=\"1\" class=\"dataframe\">\n",
       "  <thead>\n",
       "    <tr style=\"text-align: right;\">\n",
       "      <th></th>\n",
       "      <th>gender</th>\n",
       "      <th>name</th>\n",
       "      <th>decade</th>\n",
       "      <th>count</th>\n",
       "    </tr>\n",
       "  </thead>\n",
       "  <tbody>\n",
       "    <tr>\n",
       "      <th>84003</th>\n",
       "      <td>M</td>\n",
       "      <td>James</td>\n",
       "      <td>1940</td>\n",
       "      <td>795557</td>\n",
       "    </tr>\n",
       "    <tr>\n",
       "      <th>84004</th>\n",
       "      <td>M</td>\n",
       "      <td>Robert</td>\n",
       "      <td>1940</td>\n",
       "      <td>757894</td>\n",
       "    </tr>\n",
       "    <tr>\n",
       "      <th>84005</th>\n",
       "      <td>M</td>\n",
       "      <td>John</td>\n",
       "      <td>1940</td>\n",
       "      <td>711411</td>\n",
       "    </tr>\n",
       "    <tr>\n",
       "      <th>84006</th>\n",
       "      <td>F</td>\n",
       "      <td>Mary</td>\n",
       "      <td>1940</td>\n",
       "      <td>639971</td>\n",
       "    </tr>\n",
       "    <tr>\n",
       "      <th>84007</th>\n",
       "      <td>M</td>\n",
       "      <td>William</td>\n",
       "      <td>1940</td>\n",
       "      <td>556286</td>\n",
       "    </tr>\n",
       "  </tbody>\n",
       "</table>\n",
       "</div>"
      ],
      "text/plain": [
       "      gender     name  decade   count\n",
       "84003      M    James    1940  795557\n",
       "84004      M   Robert    1940  757894\n",
       "84005      M     John    1940  711411\n",
       "84006      F     Mary    1940  639971\n",
       "84007      M  William    1940  556286"
      ]
     },
     "execution_count": 32,
     "metadata": {},
     "output_type": "execute_result"
    }
   ],
   "source": [
    "names_1940.head()"
   ]
  },
  {
   "cell_type": "code",
   "execution_count": 33,
   "metadata": {},
   "outputs": [
    {
     "data": {
      "text/html": [
       "<div>\n",
       "<style scoped>\n",
       "    .dataframe tbody tr th:only-of-type {\n",
       "        vertical-align: middle;\n",
       "    }\n",
       "\n",
       "    .dataframe tbody tr th {\n",
       "        vertical-align: top;\n",
       "    }\n",
       "\n",
       "    .dataframe thead th {\n",
       "        text-align: right;\n",
       "    }\n",
       "</style>\n",
       "<table border=\"1\" class=\"dataframe\">\n",
       "  <thead>\n",
       "    <tr style=\"text-align: right;\">\n",
       "      <th></th>\n",
       "      <th>gender</th>\n",
       "      <th>name</th>\n",
       "      <th>decade</th>\n",
       "      <th>count</th>\n",
       "    </tr>\n",
       "  </thead>\n",
       "  <tbody>\n",
       "    <tr>\n",
       "      <th>89922</th>\n",
       "      <td>F</td>\n",
       "      <td>Wyoma</td>\n",
       "      <td>1940</td>\n",
       "      <td>5</td>\n",
       "    </tr>\n",
       "    <tr>\n",
       "      <th>89421</th>\n",
       "      <td>M</td>\n",
       "      <td>Blanchard</td>\n",
       "      <td>1940</td>\n",
       "      <td>5</td>\n",
       "    </tr>\n",
       "    <tr>\n",
       "      <th>89420</th>\n",
       "      <td>M</td>\n",
       "      <td>Robley</td>\n",
       "      <td>1940</td>\n",
       "      <td>5</td>\n",
       "    </tr>\n",
       "    <tr>\n",
       "      <th>89419</th>\n",
       "      <td>M</td>\n",
       "      <td>Berton</td>\n",
       "      <td>1940</td>\n",
       "      <td>5</td>\n",
       "    </tr>\n",
       "    <tr>\n",
       "      <th>89418</th>\n",
       "      <td>F</td>\n",
       "      <td>Mertis</td>\n",
       "      <td>1940</td>\n",
       "      <td>5</td>\n",
       "    </tr>\n",
       "    <tr>\n",
       "      <th>...</th>\n",
       "      <td>...</td>\n",
       "      <td>...</td>\n",
       "      <td>...</td>\n",
       "      <td>...</td>\n",
       "    </tr>\n",
       "    <tr>\n",
       "      <th>84007</th>\n",
       "      <td>M</td>\n",
       "      <td>William</td>\n",
       "      <td>1940</td>\n",
       "      <td>556286</td>\n",
       "    </tr>\n",
       "    <tr>\n",
       "      <th>84006</th>\n",
       "      <td>F</td>\n",
       "      <td>Mary</td>\n",
       "      <td>1940</td>\n",
       "      <td>639971</td>\n",
       "    </tr>\n",
       "    <tr>\n",
       "      <th>84005</th>\n",
       "      <td>M</td>\n",
       "      <td>John</td>\n",
       "      <td>1940</td>\n",
       "      <td>711411</td>\n",
       "    </tr>\n",
       "    <tr>\n",
       "      <th>84004</th>\n",
       "      <td>M</td>\n",
       "      <td>Robert</td>\n",
       "      <td>1940</td>\n",
       "      <td>757894</td>\n",
       "    </tr>\n",
       "    <tr>\n",
       "      <th>84003</th>\n",
       "      <td>M</td>\n",
       "      <td>James</td>\n",
       "      <td>1940</td>\n",
       "      <td>795557</td>\n",
       "    </tr>\n",
       "  </tbody>\n",
       "</table>\n",
       "<p>5920 rows × 4 columns</p>\n",
       "</div>"
      ],
      "text/plain": [
       "      gender       name  decade   count\n",
       "89922      F      Wyoma    1940       5\n",
       "89421      M  Blanchard    1940       5\n",
       "89420      M     Robley    1940       5\n",
       "89419      M     Berton    1940       5\n",
       "89418      F     Mertis    1940       5\n",
       "...      ...        ...     ...     ...\n",
       "84007      M    William    1940  556286\n",
       "84006      F       Mary    1940  639971\n",
       "84005      M       John    1940  711411\n",
       "84004      M     Robert    1940  757894\n",
       "84003      M      James    1940  795557\n",
       "\n",
       "[5920 rows x 4 columns]"
      ]
     },
     "execution_count": 33,
     "metadata": {},
     "output_type": "execute_result"
    }
   ],
   "source": [
    "names_1940.sort_values(by=['count'])"
   ]
  },
  {
   "cell_type": "code",
   "execution_count": 34,
   "metadata": {},
   "outputs": [
    {
     "data": {
      "text/html": [
       "<div>\n",
       "<style scoped>\n",
       "    .dataframe tbody tr th:only-of-type {\n",
       "        vertical-align: middle;\n",
       "    }\n",
       "\n",
       "    .dataframe tbody tr th {\n",
       "        vertical-align: top;\n",
       "    }\n",
       "\n",
       "    .dataframe thead th {\n",
       "        text-align: right;\n",
       "    }\n",
       "</style>\n",
       "<table border=\"1\" class=\"dataframe\">\n",
       "  <thead>\n",
       "    <tr style=\"text-align: right;\">\n",
       "      <th></th>\n",
       "      <th>gender</th>\n",
       "      <th>name</th>\n",
       "      <th>decade</th>\n",
       "      <th>count</th>\n",
       "    </tr>\n",
       "  </thead>\n",
       "  <tbody>\n",
       "    <tr>\n",
       "      <th>84003</th>\n",
       "      <td>M</td>\n",
       "      <td>James</td>\n",
       "      <td>1940</td>\n",
       "      <td>795557</td>\n",
       "    </tr>\n",
       "    <tr>\n",
       "      <th>84004</th>\n",
       "      <td>M</td>\n",
       "      <td>Robert</td>\n",
       "      <td>1940</td>\n",
       "      <td>757894</td>\n",
       "    </tr>\n",
       "    <tr>\n",
       "      <th>84005</th>\n",
       "      <td>M</td>\n",
       "      <td>John</td>\n",
       "      <td>1940</td>\n",
       "      <td>711411</td>\n",
       "    </tr>\n",
       "    <tr>\n",
       "      <th>84006</th>\n",
       "      <td>F</td>\n",
       "      <td>Mary</td>\n",
       "      <td>1940</td>\n",
       "      <td>639971</td>\n",
       "    </tr>\n",
       "    <tr>\n",
       "      <th>84007</th>\n",
       "      <td>M</td>\n",
       "      <td>William</td>\n",
       "      <td>1940</td>\n",
       "      <td>556286</td>\n",
       "    </tr>\n",
       "  </tbody>\n",
       "</table>\n",
       "</div>"
      ],
      "text/plain": [
       "      gender     name  decade   count\n",
       "84003      M    James    1940  795557\n",
       "84004      M   Robert    1940  757894\n",
       "84005      M     John    1940  711411\n",
       "84006      F     Mary    1940  639971\n",
       "84007      M  William    1940  556286"
      ]
     },
     "execution_count": 34,
     "metadata": {},
     "output_type": "execute_result"
    }
   ],
   "source": [
    "names_1940.head()"
   ]
  },
  {
   "cell_type": "code",
   "execution_count": 35,
   "metadata": {},
   "outputs": [],
   "source": [
    "names_1940_top5 = names_1940.head()"
   ]
  },
  {
   "cell_type": "code",
   "execution_count": 36,
   "metadata": {},
   "outputs": [
    {
     "data": {
      "image/png": "[encoded data removed]",
      "text/plain": [
       "<Figure size 432x288 with 1 Axes>"
      ]
     },
     "metadata": {
      "needs_background": "light"
     },
     "output_type": "display_data"
    }
   ],
   "source": [
    "ax = sns.barplot(x='name', y='count', data=names_1940_top5)"
   ]
  },
  {
   "cell_type": "code",
   "execution_count": 37,
   "metadata": {},
   "outputs": [],
   "source": [
    "names_1950 = names[names.decade == 1950]"
   ]
  },
  {
   "cell_type": "code",
   "execution_count": 38,
   "metadata": {},
   "outputs": [
    {
     "data": {
      "text/html": [
       "<div>\n",
       "<style scoped>\n",
       "    .dataframe tbody tr th:only-of-type {\n",
       "        vertical-align: middle;\n",
       "    }\n",
       "\n",
       "    .dataframe tbody tr th {\n",
       "        vertical-align: top;\n",
       "    }\n",
       "\n",
       "    .dataframe thead th {\n",
       "        text-align: right;\n",
       "    }\n",
       "</style>\n",
       "<table border=\"1\" class=\"dataframe\">\n",
       "  <thead>\n",
       "    <tr style=\"text-align: right;\">\n",
       "      <th></th>\n",
       "      <th>gender</th>\n",
       "      <th>name</th>\n",
       "      <th>decade</th>\n",
       "      <th>count</th>\n",
       "    </tr>\n",
       "  </thead>\n",
       "  <tbody>\n",
       "    <tr>\n",
       "      <th>77302</th>\n",
       "      <td>M</td>\n",
       "      <td>James</td>\n",
       "      <td>1950</td>\n",
       "      <td>843189</td>\n",
       "    </tr>\n",
       "    <tr>\n",
       "      <th>77303</th>\n",
       "      <td>M</td>\n",
       "      <td>Michael</td>\n",
       "      <td>1950</td>\n",
       "      <td>836913</td>\n",
       "    </tr>\n",
       "    <tr>\n",
       "      <th>77304</th>\n",
       "      <td>M</td>\n",
       "      <td>Robert</td>\n",
       "      <td>1950</td>\n",
       "      <td>829819</td>\n",
       "    </tr>\n",
       "    <tr>\n",
       "      <th>77305</th>\n",
       "      <td>M</td>\n",
       "      <td>John</td>\n",
       "      <td>1950</td>\n",
       "      <td>797331</td>\n",
       "    </tr>\n",
       "    <tr>\n",
       "      <th>77306</th>\n",
       "      <td>M</td>\n",
       "      <td>David</td>\n",
       "      <td>1950</td>\n",
       "      <td>769391</td>\n",
       "    </tr>\n",
       "  </tbody>\n",
       "</table>\n",
       "</div>"
      ],
      "text/plain": [
       "      gender     name  decade   count\n",
       "77302      M    James    1950  843189\n",
       "77303      M  Michael    1950  836913\n",
       "77304      M   Robert    1950  829819\n",
       "77305      M     John    1950  797331\n",
       "77306      M    David    1950  769391"
      ]
     },
     "execution_count": 38,
     "metadata": {},
     "output_type": "execute_result"
    }
   ],
   "source": [
    "names_1950.head()"
   ]
  },
  {
   "cell_type": "code",
   "execution_count": 39,
   "metadata": {},
   "outputs": [
    {
     "data": {
      "text/html": [
       "<div>\n",
       "<style scoped>\n",
       "    .dataframe tbody tr th:only-of-type {\n",
       "        vertical-align: middle;\n",
       "    }\n",
       "\n",
       "    .dataframe tbody tr th {\n",
       "        vertical-align: top;\n",
       "    }\n",
       "\n",
       "    .dataframe thead th {\n",
       "        text-align: right;\n",
       "    }\n",
       "</style>\n",
       "<table border=\"1\" class=\"dataframe\">\n",
       "  <thead>\n",
       "    <tr style=\"text-align: right;\">\n",
       "      <th></th>\n",
       "      <th>gender</th>\n",
       "      <th>name</th>\n",
       "      <th>decade</th>\n",
       "      <th>count</th>\n",
       "    </tr>\n",
       "  </thead>\n",
       "  <tbody>\n",
       "    <tr>\n",
       "      <th>84002</th>\n",
       "      <td>M</td>\n",
       "      <td>Jarrett</td>\n",
       "      <td>1950</td>\n",
       "      <td>5</td>\n",
       "    </tr>\n",
       "    <tr>\n",
       "      <th>83407</th>\n",
       "      <td>M</td>\n",
       "      <td>Leonce</td>\n",
       "      <td>1950</td>\n",
       "      <td>5</td>\n",
       "    </tr>\n",
       "    <tr>\n",
       "      <th>83406</th>\n",
       "      <td>M</td>\n",
       "      <td>Clydell</td>\n",
       "      <td>1950</td>\n",
       "      <td>5</td>\n",
       "    </tr>\n",
       "    <tr>\n",
       "      <th>83405</th>\n",
       "      <td>F</td>\n",
       "      <td>Kahne</td>\n",
       "      <td>1950</td>\n",
       "      <td>5</td>\n",
       "    </tr>\n",
       "    <tr>\n",
       "      <th>83404</th>\n",
       "      <td>F</td>\n",
       "      <td>Jeanell</td>\n",
       "      <td>1950</td>\n",
       "      <td>5</td>\n",
       "    </tr>\n",
       "    <tr>\n",
       "      <th>...</th>\n",
       "      <td>...</td>\n",
       "      <td>...</td>\n",
       "      <td>...</td>\n",
       "      <td>...</td>\n",
       "    </tr>\n",
       "    <tr>\n",
       "      <th>77306</th>\n",
       "      <td>M</td>\n",
       "      <td>David</td>\n",
       "      <td>1950</td>\n",
       "      <td>769391</td>\n",
       "    </tr>\n",
       "    <tr>\n",
       "      <th>77305</th>\n",
       "      <td>M</td>\n",
       "      <td>John</td>\n",
       "      <td>1950</td>\n",
       "      <td>797331</td>\n",
       "    </tr>\n",
       "    <tr>\n",
       "      <th>77304</th>\n",
       "      <td>M</td>\n",
       "      <td>Robert</td>\n",
       "      <td>1950</td>\n",
       "      <td>829819</td>\n",
       "    </tr>\n",
       "    <tr>\n",
       "      <th>77303</th>\n",
       "      <td>M</td>\n",
       "      <td>Michael</td>\n",
       "      <td>1950</td>\n",
       "      <td>836913</td>\n",
       "    </tr>\n",
       "    <tr>\n",
       "      <th>77302</th>\n",
       "      <td>M</td>\n",
       "      <td>James</td>\n",
       "      <td>1950</td>\n",
       "      <td>843189</td>\n",
       "    </tr>\n",
       "  </tbody>\n",
       "</table>\n",
       "<p>6701 rows × 4 columns</p>\n",
       "</div>"
      ],
      "text/plain": [
       "      gender     name  decade   count\n",
       "84002      M  Jarrett    1950       5\n",
       "83407      M   Leonce    1950       5\n",
       "83406      M  Clydell    1950       5\n",
       "83405      F    Kahne    1950       5\n",
       "83404      F  Jeanell    1950       5\n",
       "...      ...      ...     ...     ...\n",
       "77306      M    David    1950  769391\n",
       "77305      M     John    1950  797331\n",
       "77304      M   Robert    1950  829819\n",
       "77303      M  Michael    1950  836913\n",
       "77302      M    James    1950  843189\n",
       "\n",
       "[6701 rows x 4 columns]"
      ]
     },
     "execution_count": 39,
     "metadata": {},
     "output_type": "execute_result"
    }
   ],
   "source": [
    "names_1950.sort_values(by=['count'])"
   ]
  },
  {
   "cell_type": "code",
   "execution_count": 40,
   "metadata": {},
   "outputs": [
    {
     "data": {
      "text/html": [
       "<div>\n",
       "<style scoped>\n",
       "    .dataframe tbody tr th:only-of-type {\n",
       "        vertical-align: middle;\n",
       "    }\n",
       "\n",
       "    .dataframe tbody tr th {\n",
       "        vertical-align: top;\n",
       "    }\n",
       "\n",
       "    .dataframe thead th {\n",
       "        text-align: right;\n",
       "    }\n",
       "</style>\n",
       "<table border=\"1\" class=\"dataframe\">\n",
       "  <thead>\n",
       "    <tr style=\"text-align: right;\">\n",
       "      <th></th>\n",
       "      <th>gender</th>\n",
       "      <th>name</th>\n",
       "      <th>decade</th>\n",
       "      <th>count</th>\n",
       "    </tr>\n",
       "  </thead>\n",
       "  <tbody>\n",
       "    <tr>\n",
       "      <th>77302</th>\n",
       "      <td>M</td>\n",
       "      <td>James</td>\n",
       "      <td>1950</td>\n",
       "      <td>843189</td>\n",
       "    </tr>\n",
       "    <tr>\n",
       "      <th>77303</th>\n",
       "      <td>M</td>\n",
       "      <td>Michael</td>\n",
       "      <td>1950</td>\n",
       "      <td>836913</td>\n",
       "    </tr>\n",
       "    <tr>\n",
       "      <th>77304</th>\n",
       "      <td>M</td>\n",
       "      <td>Robert</td>\n",
       "      <td>1950</td>\n",
       "      <td>829819</td>\n",
       "    </tr>\n",
       "    <tr>\n",
       "      <th>77305</th>\n",
       "      <td>M</td>\n",
       "      <td>John</td>\n",
       "      <td>1950</td>\n",
       "      <td>797331</td>\n",
       "    </tr>\n",
       "    <tr>\n",
       "      <th>77306</th>\n",
       "      <td>M</td>\n",
       "      <td>David</td>\n",
       "      <td>1950</td>\n",
       "      <td>769391</td>\n",
       "    </tr>\n",
       "  </tbody>\n",
       "</table>\n",
       "</div>"
      ],
      "text/plain": [
       "      gender     name  decade   count\n",
       "77302      M    James    1950  843189\n",
       "77303      M  Michael    1950  836913\n",
       "77304      M   Robert    1950  829819\n",
       "77305      M     John    1950  797331\n",
       "77306      M    David    1950  769391"
      ]
     },
     "execution_count": 40,
     "metadata": {},
     "output_type": "execute_result"
    }
   ],
   "source": [
    "names_1950.head()"
   ]
  },
  {
   "cell_type": "code",
   "execution_count": 41,
   "metadata": {},
   "outputs": [],
   "source": [
    "names_1950_top5 = names_1950.head()"
   ]
  },
  {
   "cell_type": "code",
   "execution_count": 42,
   "metadata": {},
   "outputs": [
    {
     "data": {
      "image/png": "[encoded data removed]",
      "text/plain": [
       "<Figure size 432x288 with 1 Axes>"
      ]
     },
     "metadata": {
      "needs_background": "light"
     },
     "output_type": "display_data"
    }
   ],
   "source": [
    "ax = sns.barplot(x='name', y='count', palette='rocket', data=names_1950_top5)"
   ]
  },
  {
   "cell_type": "code",
   "execution_count": 43,
   "metadata": {},
   "outputs": [],
   "source": [
    "names_1960 = names[names.decade == 1960]"
   ]
  },
  {
   "cell_type": "code",
   "execution_count": 44,
   "metadata": {},
   "outputs": [
    {
     "data": {
      "text/html": [
       "<div>\n",
       "<style scoped>\n",
       "    .dataframe tbody tr th:only-of-type {\n",
       "        vertical-align: middle;\n",
       "    }\n",
       "\n",
       "    .dataframe tbody tr th {\n",
       "        vertical-align: top;\n",
       "    }\n",
       "\n",
       "    .dataframe thead th {\n",
       "        text-align: right;\n",
       "    }\n",
       "</style>\n",
       "<table border=\"1\" class=\"dataframe\">\n",
       "  <thead>\n",
       "    <tr style=\"text-align: right;\">\n",
       "      <th></th>\n",
       "      <th>gender</th>\n",
       "      <th>name</th>\n",
       "      <th>decade</th>\n",
       "      <th>count</th>\n",
       "    </tr>\n",
       "  </thead>\n",
       "  <tbody>\n",
       "    <tr>\n",
       "      <th>69919</th>\n",
       "      <td>M</td>\n",
       "      <td>Michael</td>\n",
       "      <td>1960</td>\n",
       "      <td>833395</td>\n",
       "    </tr>\n",
       "    <tr>\n",
       "      <th>69920</th>\n",
       "      <td>M</td>\n",
       "      <td>David</td>\n",
       "      <td>1960</td>\n",
       "      <td>734176</td>\n",
       "    </tr>\n",
       "    <tr>\n",
       "      <th>69921</th>\n",
       "      <td>M</td>\n",
       "      <td>John</td>\n",
       "      <td>1960</td>\n",
       "      <td>713636</td>\n",
       "    </tr>\n",
       "    <tr>\n",
       "      <th>69922</th>\n",
       "      <td>M</td>\n",
       "      <td>James</td>\n",
       "      <td>1960</td>\n",
       "      <td>684985</td>\n",
       "    </tr>\n",
       "    <tr>\n",
       "      <th>69923</th>\n",
       "      <td>M</td>\n",
       "      <td>Robert</td>\n",
       "      <td>1960</td>\n",
       "      <td>650985</td>\n",
       "    </tr>\n",
       "  </tbody>\n",
       "</table>\n",
       "</div>"
      ],
      "text/plain": [
       "      gender     name  decade   count\n",
       "69919      M  Michael    1960  833395\n",
       "69920      M    David    1960  734176\n",
       "69921      M     John    1960  713636\n",
       "69922      M    James    1960  684985\n",
       "69923      M   Robert    1960  650985"
      ]
     },
     "execution_count": 44,
     "metadata": {},
     "output_type": "execute_result"
    }
   ],
   "source": [
    "names_1960.head()"
   ]
  },
  {
   "cell_type": "code",
   "execution_count": 45,
   "metadata": {},
   "outputs": [
    {
     "data": {
      "text/html": [
       "<div>\n",
       "<style scoped>\n",
       "    .dataframe tbody tr th:only-of-type {\n",
       "        vertical-align: middle;\n",
       "    }\n",
       "\n",
       "    .dataframe tbody tr th {\n",
       "        vertical-align: top;\n",
       "    }\n",
       "\n",
       "    .dataframe thead th {\n",
       "        text-align: right;\n",
       "    }\n",
       "</style>\n",
       "<table border=\"1\" class=\"dataframe\">\n",
       "  <thead>\n",
       "    <tr style=\"text-align: right;\">\n",
       "      <th></th>\n",
       "      <th>gender</th>\n",
       "      <th>name</th>\n",
       "      <th>decade</th>\n",
       "      <th>count</th>\n",
       "    </tr>\n",
       "  </thead>\n",
       "  <tbody>\n",
       "    <tr>\n",
       "      <th>77301</th>\n",
       "      <td>M</td>\n",
       "      <td>Burgess</td>\n",
       "      <td>1960</td>\n",
       "      <td>5</td>\n",
       "    </tr>\n",
       "    <tr>\n",
       "      <th>76651</th>\n",
       "      <td>F</td>\n",
       "      <td>Dacia</td>\n",
       "      <td>1960</td>\n",
       "      <td>5</td>\n",
       "    </tr>\n",
       "    <tr>\n",
       "      <th>76650</th>\n",
       "      <td>F</td>\n",
       "      <td>Brandon</td>\n",
       "      <td>1960</td>\n",
       "      <td>5</td>\n",
       "    </tr>\n",
       "    <tr>\n",
       "      <th>76649</th>\n",
       "      <td>F</td>\n",
       "      <td>Latrell</td>\n",
       "      <td>1960</td>\n",
       "      <td>5</td>\n",
       "    </tr>\n",
       "    <tr>\n",
       "      <th>76648</th>\n",
       "      <td>F</td>\n",
       "      <td>Jonathan</td>\n",
       "      <td>1960</td>\n",
       "      <td>5</td>\n",
       "    </tr>\n",
       "    <tr>\n",
       "      <th>...</th>\n",
       "      <td>...</td>\n",
       "      <td>...</td>\n",
       "      <td>...</td>\n",
       "      <td>...</td>\n",
       "    </tr>\n",
       "    <tr>\n",
       "      <th>69923</th>\n",
       "      <td>M</td>\n",
       "      <td>Robert</td>\n",
       "      <td>1960</td>\n",
       "      <td>650985</td>\n",
       "    </tr>\n",
       "    <tr>\n",
       "      <th>69922</th>\n",
       "      <td>M</td>\n",
       "      <td>James</td>\n",
       "      <td>1960</td>\n",
       "      <td>684985</td>\n",
       "    </tr>\n",
       "    <tr>\n",
       "      <th>69921</th>\n",
       "      <td>M</td>\n",
       "      <td>John</td>\n",
       "      <td>1960</td>\n",
       "      <td>713636</td>\n",
       "    </tr>\n",
       "    <tr>\n",
       "      <th>69920</th>\n",
       "      <td>M</td>\n",
       "      <td>David</td>\n",
       "      <td>1960</td>\n",
       "      <td>734176</td>\n",
       "    </tr>\n",
       "    <tr>\n",
       "      <th>69919</th>\n",
       "      <td>M</td>\n",
       "      <td>Michael</td>\n",
       "      <td>1960</td>\n",
       "      <td>833395</td>\n",
       "    </tr>\n",
       "  </tbody>\n",
       "</table>\n",
       "<p>7383 rows × 4 columns</p>\n",
       "</div>"
      ],
      "text/plain": [
       "      gender      name  decade   count\n",
       "77301      M   Burgess    1960       5\n",
       "76651      F     Dacia    1960       5\n",
       "76650      F   Brandon    1960       5\n",
       "76649      F   Latrell    1960       5\n",
       "76648      F  Jonathan    1960       5\n",
       "...      ...       ...     ...     ...\n",
       "69923      M    Robert    1960  650985\n",
       "69922      M     James    1960  684985\n",
       "69921      M      John    1960  713636\n",
       "69920      M     David    1960  734176\n",
       "69919      M   Michael    1960  833395\n",
       "\n",
       "[7383 rows x 4 columns]"
      ]
     },
     "execution_count": 45,
     "metadata": {},
     "output_type": "execute_result"
    }
   ],
   "source": [
    "names_1960.sort_values(by=['count'])"
   ]
  },
  {
   "cell_type": "code",
   "execution_count": 46,
   "metadata": {},
   "outputs": [
    {
     "data": {
      "text/html": [
       "<div>\n",
       "<style scoped>\n",
       "    .dataframe tbody tr th:only-of-type {\n",
       "        vertical-align: middle;\n",
       "    }\n",
       "\n",
       "    .dataframe tbody tr th {\n",
       "        vertical-align: top;\n",
       "    }\n",
       "\n",
       "    .dataframe thead th {\n",
       "        text-align: right;\n",
       "    }\n",
       "</style>\n",
       "<table border=\"1\" class=\"dataframe\">\n",
       "  <thead>\n",
       "    <tr style=\"text-align: right;\">\n",
       "      <th></th>\n",
       "      <th>gender</th>\n",
       "      <th>name</th>\n",
       "      <th>decade</th>\n",
       "      <th>count</th>\n",
       "    </tr>\n",
       "  </thead>\n",
       "  <tbody>\n",
       "    <tr>\n",
       "      <th>69919</th>\n",
       "      <td>M</td>\n",
       "      <td>Michael</td>\n",
       "      <td>1960</td>\n",
       "      <td>833395</td>\n",
       "    </tr>\n",
       "    <tr>\n",
       "      <th>69920</th>\n",
       "      <td>M</td>\n",
       "      <td>David</td>\n",
       "      <td>1960</td>\n",
       "      <td>734176</td>\n",
       "    </tr>\n",
       "    <tr>\n",
       "      <th>69921</th>\n",
       "      <td>M</td>\n",
       "      <td>John</td>\n",
       "      <td>1960</td>\n",
       "      <td>713636</td>\n",
       "    </tr>\n",
       "    <tr>\n",
       "      <th>69922</th>\n",
       "      <td>M</td>\n",
       "      <td>James</td>\n",
       "      <td>1960</td>\n",
       "      <td>684985</td>\n",
       "    </tr>\n",
       "    <tr>\n",
       "      <th>69923</th>\n",
       "      <td>M</td>\n",
       "      <td>Robert</td>\n",
       "      <td>1960</td>\n",
       "      <td>650985</td>\n",
       "    </tr>\n",
       "  </tbody>\n",
       "</table>\n",
       "</div>"
      ],
      "text/plain": [
       "      gender     name  decade   count\n",
       "69919      M  Michael    1960  833395\n",
       "69920      M    David    1960  734176\n",
       "69921      M     John    1960  713636\n",
       "69922      M    James    1960  684985\n",
       "69923      M   Robert    1960  650985"
      ]
     },
     "execution_count": 46,
     "metadata": {},
     "output_type": "execute_result"
    }
   ],
   "source": [
    "names_1960.head()"
   ]
  },
  {
   "cell_type": "code",
   "execution_count": 47,
   "metadata": {},
   "outputs": [],
   "source": [
    "names_1960_top5 = names_1960.head()"
   ]
  },
  {
   "cell_type": "code",
   "execution_count": 48,
   "metadata": {},
   "outputs": [
    {
     "data": {
      "image/png": "[encoded data removed]",
      "text/plain": [
       "<Figure size 432x288 with 1 Axes>"
      ]
     },
     "metadata": {
      "needs_background": "light"
     },
     "output_type": "display_data"
    }
   ],
   "source": [
    "ax = sns.barplot(x='name', y='count', palette='vlag', data=names_1960_top5)"
   ]
  },
  {
   "cell_type": "code",
   "execution_count": 49,
   "metadata": {},
   "outputs": [],
   "source": [
    "names_1970 = names[names.decade == 1970]"
   ]
  },
  {
   "cell_type": "code",
   "execution_count": 50,
   "metadata": {},
   "outputs": [
    {
     "data": {
      "text/html": [
       "<div>\n",
       "<style scoped>\n",
       "    .dataframe tbody tr th:only-of-type {\n",
       "        vertical-align: middle;\n",
       "    }\n",
       "\n",
       "    .dataframe tbody tr th {\n",
       "        vertical-align: top;\n",
       "    }\n",
       "\n",
       "    .dataframe thead th {\n",
       "        text-align: right;\n",
       "    }\n",
       "</style>\n",
       "<table border=\"1\" class=\"dataframe\">\n",
       "  <thead>\n",
       "    <tr style=\"text-align: right;\">\n",
       "      <th></th>\n",
       "      <th>gender</th>\n",
       "      <th>name</th>\n",
       "      <th>decade</th>\n",
       "      <th>count</th>\n",
       "    </tr>\n",
       "  </thead>\n",
       "  <tbody>\n",
       "    <tr>\n",
       "      <th>60168</th>\n",
       "      <td>M</td>\n",
       "      <td>Michael</td>\n",
       "      <td>1970</td>\n",
       "      <td>707704</td>\n",
       "    </tr>\n",
       "    <tr>\n",
       "      <th>60169</th>\n",
       "      <td>F</td>\n",
       "      <td>Jennifer</td>\n",
       "      <td>1970</td>\n",
       "      <td>581756</td>\n",
       "    </tr>\n",
       "    <tr>\n",
       "      <th>60170</th>\n",
       "      <td>M</td>\n",
       "      <td>Christopher</td>\n",
       "      <td>1970</td>\n",
       "      <td>475681</td>\n",
       "    </tr>\n",
       "    <tr>\n",
       "      <th>60171</th>\n",
       "      <td>M</td>\n",
       "      <td>Jason</td>\n",
       "      <td>1970</td>\n",
       "      <td>462926</td>\n",
       "    </tr>\n",
       "    <tr>\n",
       "      <th>60172</th>\n",
       "      <td>M</td>\n",
       "      <td>David</td>\n",
       "      <td>1970</td>\n",
       "      <td>445967</td>\n",
       "    </tr>\n",
       "  </tbody>\n",
       "</table>\n",
       "</div>"
      ],
      "text/plain": [
       "      gender         name  decade   count\n",
       "60168      M      Michael    1970  707704\n",
       "60169      F     Jennifer    1970  581756\n",
       "60170      M  Christopher    1970  475681\n",
       "60171      M        Jason    1970  462926\n",
       "60172      M        David    1970  445967"
      ]
     },
     "execution_count": 50,
     "metadata": {},
     "output_type": "execute_result"
    }
   ],
   "source": [
    "names_1970.head()"
   ]
  },
  {
   "cell_type": "code",
   "execution_count": 51,
   "metadata": {},
   "outputs": [
    {
     "data": {
      "text/html": [
       "<div>\n",
       "<style scoped>\n",
       "    .dataframe tbody tr th:only-of-type {\n",
       "        vertical-align: middle;\n",
       "    }\n",
       "\n",
       "    .dataframe tbody tr th {\n",
       "        vertical-align: top;\n",
       "    }\n",
       "\n",
       "    .dataframe thead th {\n",
       "        text-align: right;\n",
       "    }\n",
       "</style>\n",
       "<table border=\"1\" class=\"dataframe\">\n",
       "  <thead>\n",
       "    <tr style=\"text-align: right;\">\n",
       "      <th></th>\n",
       "      <th>gender</th>\n",
       "      <th>name</th>\n",
       "      <th>decade</th>\n",
       "      <th>count</th>\n",
       "    </tr>\n",
       "  </thead>\n",
       "  <tbody>\n",
       "    <tr>\n",
       "      <th>69918</th>\n",
       "      <td>M</td>\n",
       "      <td>Delmas</td>\n",
       "      <td>1970</td>\n",
       "      <td>5</td>\n",
       "    </tr>\n",
       "    <tr>\n",
       "      <th>68865</th>\n",
       "      <td>M</td>\n",
       "      <td>Phuong</td>\n",
       "      <td>1970</td>\n",
       "      <td>5</td>\n",
       "    </tr>\n",
       "    <tr>\n",
       "      <th>68866</th>\n",
       "      <td>M</td>\n",
       "      <td>Ravinder</td>\n",
       "      <td>1970</td>\n",
       "      <td>5</td>\n",
       "    </tr>\n",
       "    <tr>\n",
       "      <th>68867</th>\n",
       "      <td>M</td>\n",
       "      <td>Remberto</td>\n",
       "      <td>1970</td>\n",
       "      <td>5</td>\n",
       "    </tr>\n",
       "    <tr>\n",
       "      <th>68868</th>\n",
       "      <td>M</td>\n",
       "      <td>Ryland</td>\n",
       "      <td>1970</td>\n",
       "      <td>5</td>\n",
       "    </tr>\n",
       "    <tr>\n",
       "      <th>...</th>\n",
       "      <td>...</td>\n",
       "      <td>...</td>\n",
       "      <td>...</td>\n",
       "      <td>...</td>\n",
       "    </tr>\n",
       "    <tr>\n",
       "      <th>60172</th>\n",
       "      <td>M</td>\n",
       "      <td>David</td>\n",
       "      <td>1970</td>\n",
       "      <td>445967</td>\n",
       "    </tr>\n",
       "    <tr>\n",
       "      <th>60171</th>\n",
       "      <td>M</td>\n",
       "      <td>Jason</td>\n",
       "      <td>1970</td>\n",
       "      <td>462926</td>\n",
       "    </tr>\n",
       "    <tr>\n",
       "      <th>60170</th>\n",
       "      <td>M</td>\n",
       "      <td>Christopher</td>\n",
       "      <td>1970</td>\n",
       "      <td>475681</td>\n",
       "    </tr>\n",
       "    <tr>\n",
       "      <th>60169</th>\n",
       "      <td>F</td>\n",
       "      <td>Jennifer</td>\n",
       "      <td>1970</td>\n",
       "      <td>581756</td>\n",
       "    </tr>\n",
       "    <tr>\n",
       "      <th>60168</th>\n",
       "      <td>M</td>\n",
       "      <td>Michael</td>\n",
       "      <td>1970</td>\n",
       "      <td>707704</td>\n",
       "    </tr>\n",
       "  </tbody>\n",
       "</table>\n",
       "<p>9751 rows × 4 columns</p>\n",
       "</div>"
      ],
      "text/plain": [
       "      gender         name  decade   count\n",
       "69918      M       Delmas    1970       5\n",
       "68865      M       Phuong    1970       5\n",
       "68866      M     Ravinder    1970       5\n",
       "68867      M     Remberto    1970       5\n",
       "68868      M       Ryland    1970       5\n",
       "...      ...          ...     ...     ...\n",
       "60172      M        David    1970  445967\n",
       "60171      M        Jason    1970  462926\n",
       "60170      M  Christopher    1970  475681\n",
       "60169      F     Jennifer    1970  581756\n",
       "60168      M      Michael    1970  707704\n",
       "\n",
       "[9751 rows x 4 columns]"
      ]
     },
     "execution_count": 51,
     "metadata": {},
     "output_type": "execute_result"
    }
   ],
   "source": [
    "names_1970.sort_values(by=['count'])"
   ]
  },
  {
   "cell_type": "code",
   "execution_count": 52,
   "metadata": {},
   "outputs": [
    {
     "data": {
      "text/html": [
       "<div>\n",
       "<style scoped>\n",
       "    .dataframe tbody tr th:only-of-type {\n",
       "        vertical-align: middle;\n",
       "    }\n",
       "\n",
       "    .dataframe tbody tr th {\n",
       "        vertical-align: top;\n",
       "    }\n",
       "\n",
       "    .dataframe thead th {\n",
       "        text-align: right;\n",
       "    }\n",
       "</style>\n",
       "<table border=\"1\" class=\"dataframe\">\n",
       "  <thead>\n",
       "    <tr style=\"text-align: right;\">\n",
       "      <th></th>\n",
       "      <th>gender</th>\n",
       "      <th>name</th>\n",
       "      <th>decade</th>\n",
       "      <th>count</th>\n",
       "    </tr>\n",
       "  </thead>\n",
       "  <tbody>\n",
       "    <tr>\n",
       "      <th>60168</th>\n",
       "      <td>M</td>\n",
       "      <td>Michael</td>\n",
       "      <td>1970</td>\n",
       "      <td>707704</td>\n",
       "    </tr>\n",
       "    <tr>\n",
       "      <th>60169</th>\n",
       "      <td>F</td>\n",
       "      <td>Jennifer</td>\n",
       "      <td>1970</td>\n",
       "      <td>581756</td>\n",
       "    </tr>\n",
       "    <tr>\n",
       "      <th>60170</th>\n",
       "      <td>M</td>\n",
       "      <td>Christopher</td>\n",
       "      <td>1970</td>\n",
       "      <td>475681</td>\n",
       "    </tr>\n",
       "    <tr>\n",
       "      <th>60171</th>\n",
       "      <td>M</td>\n",
       "      <td>Jason</td>\n",
       "      <td>1970</td>\n",
       "      <td>462926</td>\n",
       "    </tr>\n",
       "    <tr>\n",
       "      <th>60172</th>\n",
       "      <td>M</td>\n",
       "      <td>David</td>\n",
       "      <td>1970</td>\n",
       "      <td>445967</td>\n",
       "    </tr>\n",
       "  </tbody>\n",
       "</table>\n",
       "</div>"
      ],
      "text/plain": [
       "      gender         name  decade   count\n",
       "60168      M      Michael    1970  707704\n",
       "60169      F     Jennifer    1970  581756\n",
       "60170      M  Christopher    1970  475681\n",
       "60171      M        Jason    1970  462926\n",
       "60172      M        David    1970  445967"
      ]
     },
     "execution_count": 52,
     "metadata": {},
     "output_type": "execute_result"
    }
   ],
   "source": [
    "names_1970.head()"
   ]
  },
  {
   "cell_type": "code",
   "execution_count": 53,
   "metadata": {},
   "outputs": [],
   "source": [
    "names_1970_top5 = names_1970.head()"
   ]
  },
  {
   "cell_type": "code",
   "execution_count": 54,
   "metadata": {},
   "outputs": [
    {
     "data": {
      "text/html": [
       "<div>\n",
       "<style scoped>\n",
       "    .dataframe tbody tr th:only-of-type {\n",
       "        vertical-align: middle;\n",
       "    }\n",
       "\n",
       "    .dataframe tbody tr th {\n",
       "        vertical-align: top;\n",
       "    }\n",
       "\n",
       "    .dataframe thead th {\n",
       "        text-align: right;\n",
       "    }\n",
       "</style>\n",
       "<table border=\"1\" class=\"dataframe\">\n",
       "  <thead>\n",
       "    <tr style=\"text-align: right;\">\n",
       "      <th></th>\n",
       "      <th>gender</th>\n",
       "      <th>name</th>\n",
       "      <th>decade</th>\n",
       "      <th>count</th>\n",
       "    </tr>\n",
       "  </thead>\n",
       "  <tbody>\n",
       "    <tr>\n",
       "      <th>60168</th>\n",
       "      <td>M</td>\n",
       "      <td>Michael</td>\n",
       "      <td>1970</td>\n",
       "      <td>707704</td>\n",
       "    </tr>\n",
       "    <tr>\n",
       "      <th>60169</th>\n",
       "      <td>F</td>\n",
       "      <td>Jennifer</td>\n",
       "      <td>1970</td>\n",
       "      <td>581756</td>\n",
       "    </tr>\n",
       "    <tr>\n",
       "      <th>60170</th>\n",
       "      <td>M</td>\n",
       "      <td>Christopher</td>\n",
       "      <td>1970</td>\n",
       "      <td>475681</td>\n",
       "    </tr>\n",
       "    <tr>\n",
       "      <th>60171</th>\n",
       "      <td>M</td>\n",
       "      <td>Jason</td>\n",
       "      <td>1970</td>\n",
       "      <td>462926</td>\n",
       "    </tr>\n",
       "    <tr>\n",
       "      <th>60172</th>\n",
       "      <td>M</td>\n",
       "      <td>David</td>\n",
       "      <td>1970</td>\n",
       "      <td>445967</td>\n",
       "    </tr>\n",
       "  </tbody>\n",
       "</table>\n",
       "</div>"
      ],
      "text/plain": [
       "      gender         name  decade   count\n",
       "60168      M      Michael    1970  707704\n",
       "60169      F     Jennifer    1970  581756\n",
       "60170      M  Christopher    1970  475681\n",
       "60171      M        Jason    1970  462926\n",
       "60172      M        David    1970  445967"
      ]
     },
     "execution_count": 54,
     "metadata": {},
     "output_type": "execute_result"
    }
   ],
   "source": [
    "names_1970_top5.head()"
   ]
  },
  {
   "cell_type": "code",
   "execution_count": 55,
   "metadata": {},
   "outputs": [
    {
     "data": {
      "image/png": "[encoded data removed]",
      "text/plain": [
       "<Figure size 432x288 with 1 Axes>"
      ]
     },
     "metadata": {
      "needs_background": "light"
     },
     "output_type": "display_data"
    }
   ],
   "source": [
    "ax = sns.barplot(x='name', y='count', data=names_1970_top5)"
   ]
  },
  {
   "cell_type": "code",
   "execution_count": 56,
   "metadata": {},
   "outputs": [],
   "source": [
    "names_1980 = names[names.decade == 1980]"
   ]
  },
  {
   "cell_type": "code",
   "execution_count": 57,
   "metadata": {},
   "outputs": [
    {
     "data": {
      "text/html": [
       "<div>\n",
       "<style scoped>\n",
       "    .dataframe tbody tr th:only-of-type {\n",
       "        vertical-align: middle;\n",
       "    }\n",
       "\n",
       "    .dataframe tbody tr th {\n",
       "        vertical-align: top;\n",
       "    }\n",
       "\n",
       "    .dataframe thead th {\n",
       "        text-align: right;\n",
       "    }\n",
       "</style>\n",
       "<table border=\"1\" class=\"dataframe\">\n",
       "  <thead>\n",
       "    <tr style=\"text-align: right;\">\n",
       "      <th></th>\n",
       "      <th>gender</th>\n",
       "      <th>name</th>\n",
       "      <th>decade</th>\n",
       "      <th>count</th>\n",
       "    </tr>\n",
       "  </thead>\n",
       "  <tbody>\n",
       "    <tr>\n",
       "      <th>47733</th>\n",
       "      <td>M</td>\n",
       "      <td>Michael</td>\n",
       "      <td>1980</td>\n",
       "      <td>663445</td>\n",
       "    </tr>\n",
       "    <tr>\n",
       "      <th>47734</th>\n",
       "      <td>M</td>\n",
       "      <td>Christopher</td>\n",
       "      <td>1980</td>\n",
       "      <td>554725</td>\n",
       "    </tr>\n",
       "    <tr>\n",
       "      <th>47735</th>\n",
       "      <td>F</td>\n",
       "      <td>Jessica</td>\n",
       "      <td>1980</td>\n",
       "      <td>469415</td>\n",
       "    </tr>\n",
       "    <tr>\n",
       "      <th>47736</th>\n",
       "      <td>M</td>\n",
       "      <td>Matthew</td>\n",
       "      <td>1980</td>\n",
       "      <td>458831</td>\n",
       "    </tr>\n",
       "    <tr>\n",
       "      <th>47737</th>\n",
       "      <td>F</td>\n",
       "      <td>Jennifer</td>\n",
       "      <td>1980</td>\n",
       "      <td>440818</td>\n",
       "    </tr>\n",
       "  </tbody>\n",
       "</table>\n",
       "</div>"
      ],
      "text/plain": [
       "      gender         name  decade   count\n",
       "47733      M      Michael    1980  663445\n",
       "47734      M  Christopher    1980  554725\n",
       "47735      F      Jessica    1980  469415\n",
       "47736      M      Matthew    1980  458831\n",
       "47737      F     Jennifer    1980  440818"
      ]
     },
     "execution_count": 57,
     "metadata": {},
     "output_type": "execute_result"
    }
   ],
   "source": [
    "names_1980.head()"
   ]
  },
  {
   "cell_type": "code",
   "execution_count": 58,
   "metadata": {},
   "outputs": [
    {
     "data": {
      "text/html": [
       "<div>\n",
       "<style scoped>\n",
       "    .dataframe tbody tr th:only-of-type {\n",
       "        vertical-align: middle;\n",
       "    }\n",
       "\n",
       "    .dataframe tbody tr th {\n",
       "        vertical-align: top;\n",
       "    }\n",
       "\n",
       "    .dataframe thead th {\n",
       "        text-align: right;\n",
       "    }\n",
       "</style>\n",
       "<table border=\"1\" class=\"dataframe\">\n",
       "  <thead>\n",
       "    <tr style=\"text-align: right;\">\n",
       "      <th></th>\n",
       "      <th>gender</th>\n",
       "      <th>name</th>\n",
       "      <th>decade</th>\n",
       "      <th>count</th>\n",
       "    </tr>\n",
       "  </thead>\n",
       "  <tbody>\n",
       "    <tr>\n",
       "      <th>60167</th>\n",
       "      <td>M</td>\n",
       "      <td>Okey</td>\n",
       "      <td>1980</td>\n",
       "      <td>5</td>\n",
       "    </tr>\n",
       "    <tr>\n",
       "      <th>58903</th>\n",
       "      <td>M</td>\n",
       "      <td>Nicolai</td>\n",
       "      <td>1980</td>\n",
       "      <td>5</td>\n",
       "    </tr>\n",
       "    <tr>\n",
       "      <th>58904</th>\n",
       "      <td>M</td>\n",
       "      <td>Nnamdi</td>\n",
       "      <td>1980</td>\n",
       "      <td>5</td>\n",
       "    </tr>\n",
       "    <tr>\n",
       "      <th>58905</th>\n",
       "      <td>M</td>\n",
       "      <td>Rainer</td>\n",
       "      <td>1980</td>\n",
       "      <td>5</td>\n",
       "    </tr>\n",
       "    <tr>\n",
       "      <th>58906</th>\n",
       "      <td>M</td>\n",
       "      <td>Sumeet</td>\n",
       "      <td>1980</td>\n",
       "      <td>5</td>\n",
       "    </tr>\n",
       "    <tr>\n",
       "      <th>...</th>\n",
       "      <td>...</td>\n",
       "      <td>...</td>\n",
       "      <td>...</td>\n",
       "      <td>...</td>\n",
       "    </tr>\n",
       "    <tr>\n",
       "      <th>47737</th>\n",
       "      <td>F</td>\n",
       "      <td>Jennifer</td>\n",
       "      <td>1980</td>\n",
       "      <td>440818</td>\n",
       "    </tr>\n",
       "    <tr>\n",
       "      <th>47736</th>\n",
       "      <td>M</td>\n",
       "      <td>Matthew</td>\n",
       "      <td>1980</td>\n",
       "      <td>458831</td>\n",
       "    </tr>\n",
       "    <tr>\n",
       "      <th>47735</th>\n",
       "      <td>F</td>\n",
       "      <td>Jessica</td>\n",
       "      <td>1980</td>\n",
       "      <td>469415</td>\n",
       "    </tr>\n",
       "    <tr>\n",
       "      <th>47734</th>\n",
       "      <td>M</td>\n",
       "      <td>Christopher</td>\n",
       "      <td>1980</td>\n",
       "      <td>554725</td>\n",
       "    </tr>\n",
       "    <tr>\n",
       "      <th>47733</th>\n",
       "      <td>M</td>\n",
       "      <td>Michael</td>\n",
       "      <td>1980</td>\n",
       "      <td>663445</td>\n",
       "    </tr>\n",
       "  </tbody>\n",
       "</table>\n",
       "<p>12435 rows × 4 columns</p>\n",
       "</div>"
      ],
      "text/plain": [
       "      gender         name  decade   count\n",
       "60167      M         Okey    1980       5\n",
       "58903      M      Nicolai    1980       5\n",
       "58904      M       Nnamdi    1980       5\n",
       "58905      M       Rainer    1980       5\n",
       "58906      M       Sumeet    1980       5\n",
       "...      ...          ...     ...     ...\n",
       "47737      F     Jennifer    1980  440818\n",
       "47736      M      Matthew    1980  458831\n",
       "47735      F      Jessica    1980  469415\n",
       "47734      M  Christopher    1980  554725\n",
       "47733      M      Michael    1980  663445\n",
       "\n",
       "[12435 rows x 4 columns]"
      ]
     },
     "execution_count": 58,
     "metadata": {},
     "output_type": "execute_result"
    }
   ],
   "source": [
    "names_1980.sort_values(by=['count'])"
   ]
  },
  {
   "cell_type": "code",
   "execution_count": 59,
   "metadata": {},
   "outputs": [
    {
     "data": {
      "text/html": [
       "<div>\n",
       "<style scoped>\n",
       "    .dataframe tbody tr th:only-of-type {\n",
       "        vertical-align: middle;\n",
       "    }\n",
       "\n",
       "    .dataframe tbody tr th {\n",
       "        vertical-align: top;\n",
       "    }\n",
       "\n",
       "    .dataframe thead th {\n",
       "        text-align: right;\n",
       "    }\n",
       "</style>\n",
       "<table border=\"1\" class=\"dataframe\">\n",
       "  <thead>\n",
       "    <tr style=\"text-align: right;\">\n",
       "      <th></th>\n",
       "      <th>gender</th>\n",
       "      <th>name</th>\n",
       "      <th>decade</th>\n",
       "      <th>count</th>\n",
       "    </tr>\n",
       "  </thead>\n",
       "  <tbody>\n",
       "    <tr>\n",
       "      <th>47733</th>\n",
       "      <td>M</td>\n",
       "      <td>Michael</td>\n",
       "      <td>1980</td>\n",
       "      <td>663445</td>\n",
       "    </tr>\n",
       "    <tr>\n",
       "      <th>47734</th>\n",
       "      <td>M</td>\n",
       "      <td>Christopher</td>\n",
       "      <td>1980</td>\n",
       "      <td>554725</td>\n",
       "    </tr>\n",
       "    <tr>\n",
       "      <th>47735</th>\n",
       "      <td>F</td>\n",
       "      <td>Jessica</td>\n",
       "      <td>1980</td>\n",
       "      <td>469415</td>\n",
       "    </tr>\n",
       "    <tr>\n",
       "      <th>47736</th>\n",
       "      <td>M</td>\n",
       "      <td>Matthew</td>\n",
       "      <td>1980</td>\n",
       "      <td>458831</td>\n",
       "    </tr>\n",
       "    <tr>\n",
       "      <th>47737</th>\n",
       "      <td>F</td>\n",
       "      <td>Jennifer</td>\n",
       "      <td>1980</td>\n",
       "      <td>440818</td>\n",
       "    </tr>\n",
       "  </tbody>\n",
       "</table>\n",
       "</div>"
      ],
      "text/plain": [
       "      gender         name  decade   count\n",
       "47733      M      Michael    1980  663445\n",
       "47734      M  Christopher    1980  554725\n",
       "47735      F      Jessica    1980  469415\n",
       "47736      M      Matthew    1980  458831\n",
       "47737      F     Jennifer    1980  440818"
      ]
     },
     "execution_count": 59,
     "metadata": {},
     "output_type": "execute_result"
    }
   ],
   "source": [
    "names_1980.head()"
   ]
  },
  {
   "cell_type": "code",
   "execution_count": 60,
   "metadata": {},
   "outputs": [],
   "source": [
    "names_1980_top5 = names_1980.head()"
   ]
  },
  {
   "cell_type": "code",
   "execution_count": 61,
   "metadata": {},
   "outputs": [
    {
     "data": {
      "image/png": "[encoded data removed]",
      "text/plain": [
       "<Figure size 432x288 with 1 Axes>"
      ]
     },
     "metadata": {
      "needs_background": "light"
     },
     "output_type": "display_data"
    }
   ],
   "source": [
    "ax = sns.barplot(x='name', y='count', data=names_1980_top5)"
   ]
  },
  {
   "cell_type": "code",
   "execution_count": 62,
   "metadata": {},
   "outputs": [],
   "source": [
    "names_1990 = names[names.decade == 1990]"
   ]
  },
  {
   "cell_type": "code",
   "execution_count": 63,
   "metadata": {},
   "outputs": [
    {
     "data": {
      "text/html": [
       "<div>\n",
       "<style scoped>\n",
       "    .dataframe tbody tr th:only-of-type {\n",
       "        vertical-align: middle;\n",
       "    }\n",
       "\n",
       "    .dataframe tbody tr th {\n",
       "        vertical-align: top;\n",
       "    }\n",
       "\n",
       "    .dataframe thead th {\n",
       "        text-align: right;\n",
       "    }\n",
       "</style>\n",
       "<table border=\"1\" class=\"dataframe\">\n",
       "  <thead>\n",
       "    <tr style=\"text-align: right;\">\n",
       "      <th></th>\n",
       "      <th>gender</th>\n",
       "      <th>name</th>\n",
       "      <th>decade</th>\n",
       "      <th>count</th>\n",
       "    </tr>\n",
       "  </thead>\n",
       "  <tbody>\n",
       "    <tr>\n",
       "      <th>32013</th>\n",
       "      <td>M</td>\n",
       "      <td>Michael</td>\n",
       "      <td>1990</td>\n",
       "      <td>462265</td>\n",
       "    </tr>\n",
       "    <tr>\n",
       "      <th>32014</th>\n",
       "      <td>M</td>\n",
       "      <td>Christopher</td>\n",
       "      <td>1990</td>\n",
       "      <td>360170</td>\n",
       "    </tr>\n",
       "    <tr>\n",
       "      <th>32015</th>\n",
       "      <td>M</td>\n",
       "      <td>Matthew</td>\n",
       "      <td>1990</td>\n",
       "      <td>351569</td>\n",
       "    </tr>\n",
       "    <tr>\n",
       "      <th>32016</th>\n",
       "      <td>M</td>\n",
       "      <td>Joshua</td>\n",
       "      <td>1990</td>\n",
       "      <td>329072</td>\n",
       "    </tr>\n",
       "    <tr>\n",
       "      <th>32017</th>\n",
       "      <td>F</td>\n",
       "      <td>Jessica</td>\n",
       "      <td>1990</td>\n",
       "      <td>303053</td>\n",
       "    </tr>\n",
       "  </tbody>\n",
       "</table>\n",
       "</div>"
      ],
      "text/plain": [
       "      gender         name  decade   count\n",
       "32013      M      Michael    1990  462265\n",
       "32014      M  Christopher    1990  360170\n",
       "32015      M      Matthew    1990  351569\n",
       "32016      M       Joshua    1990  329072\n",
       "32017      F      Jessica    1990  303053"
      ]
     },
     "execution_count": 63,
     "metadata": {},
     "output_type": "execute_result"
    }
   ],
   "source": [
    "names_1990.head()"
   ]
  },
  {
   "cell_type": "code",
   "execution_count": 64,
   "metadata": {},
   "outputs": [
    {
     "data": {
      "text/html": [
       "<div>\n",
       "<style scoped>\n",
       "    .dataframe tbody tr th:only-of-type {\n",
       "        vertical-align: middle;\n",
       "    }\n",
       "\n",
       "    .dataframe tbody tr th {\n",
       "        vertical-align: top;\n",
       "    }\n",
       "\n",
       "    .dataframe thead th {\n",
       "        text-align: right;\n",
       "    }\n",
       "</style>\n",
       "<table border=\"1\" class=\"dataframe\">\n",
       "  <thead>\n",
       "    <tr style=\"text-align: right;\">\n",
       "      <th></th>\n",
       "      <th>gender</th>\n",
       "      <th>name</th>\n",
       "      <th>decade</th>\n",
       "      <th>count</th>\n",
       "    </tr>\n",
       "  </thead>\n",
       "  <tbody>\n",
       "    <tr>\n",
       "      <th>47732</th>\n",
       "      <td>M</td>\n",
       "      <td>Destiny</td>\n",
       "      <td>1990</td>\n",
       "      <td>5</td>\n",
       "    </tr>\n",
       "    <tr>\n",
       "      <th>46171</th>\n",
       "      <td>M</td>\n",
       "      <td>Graydon</td>\n",
       "      <td>1990</td>\n",
       "      <td>5</td>\n",
       "    </tr>\n",
       "    <tr>\n",
       "      <th>46170</th>\n",
       "      <td>M</td>\n",
       "      <td>Gerad</td>\n",
       "      <td>1990</td>\n",
       "      <td>5</td>\n",
       "    </tr>\n",
       "    <tr>\n",
       "      <th>46169</th>\n",
       "      <td>M</td>\n",
       "      <td>Ellery</td>\n",
       "      <td>1990</td>\n",
       "      <td>5</td>\n",
       "    </tr>\n",
       "    <tr>\n",
       "      <th>46168</th>\n",
       "      <td>M</td>\n",
       "      <td>Edvardo</td>\n",
       "      <td>1990</td>\n",
       "      <td>5</td>\n",
       "    </tr>\n",
       "    <tr>\n",
       "      <th>...</th>\n",
       "      <td>...</td>\n",
       "      <td>...</td>\n",
       "      <td>...</td>\n",
       "      <td>...</td>\n",
       "    </tr>\n",
       "    <tr>\n",
       "      <th>32017</th>\n",
       "      <td>F</td>\n",
       "      <td>Jessica</td>\n",
       "      <td>1990</td>\n",
       "      <td>303053</td>\n",
       "    </tr>\n",
       "    <tr>\n",
       "      <th>32016</th>\n",
       "      <td>M</td>\n",
       "      <td>Joshua</td>\n",
       "      <td>1990</td>\n",
       "      <td>329072</td>\n",
       "    </tr>\n",
       "    <tr>\n",
       "      <th>32015</th>\n",
       "      <td>M</td>\n",
       "      <td>Matthew</td>\n",
       "      <td>1990</td>\n",
       "      <td>351569</td>\n",
       "    </tr>\n",
       "    <tr>\n",
       "      <th>32014</th>\n",
       "      <td>M</td>\n",
       "      <td>Christopher</td>\n",
       "      <td>1990</td>\n",
       "      <td>360170</td>\n",
       "    </tr>\n",
       "    <tr>\n",
       "      <th>32013</th>\n",
       "      <td>M</td>\n",
       "      <td>Michael</td>\n",
       "      <td>1990</td>\n",
       "      <td>462265</td>\n",
       "    </tr>\n",
       "  </tbody>\n",
       "</table>\n",
       "<p>15720 rows × 4 columns</p>\n",
       "</div>"
      ],
      "text/plain": [
       "      gender         name  decade   count\n",
       "47732      M      Destiny    1990       5\n",
       "46171      M      Graydon    1990       5\n",
       "46170      M        Gerad    1990       5\n",
       "46169      M       Ellery    1990       5\n",
       "46168      M      Edvardo    1990       5\n",
       "...      ...          ...     ...     ...\n",
       "32017      F      Jessica    1990  303053\n",
       "32016      M       Joshua    1990  329072\n",
       "32015      M      Matthew    1990  351569\n",
       "32014      M  Christopher    1990  360170\n",
       "32013      M      Michael    1990  462265\n",
       "\n",
       "[15720 rows x 4 columns]"
      ]
     },
     "execution_count": 64,
     "metadata": {},
     "output_type": "execute_result"
    }
   ],
   "source": [
    "names_1990.sort_values(by=['count'])"
   ]
  },
  {
   "cell_type": "code",
   "execution_count": 65,
   "metadata": {},
   "outputs": [
    {
     "data": {
      "text/html": [
       "<div>\n",
       "<style scoped>\n",
       "    .dataframe tbody tr th:only-of-type {\n",
       "        vertical-align: middle;\n",
       "    }\n",
       "\n",
       "    .dataframe tbody tr th {\n",
       "        vertical-align: top;\n",
       "    }\n",
       "\n",
       "    .dataframe thead th {\n",
       "        text-align: right;\n",
       "    }\n",
       "</style>\n",
       "<table border=\"1\" class=\"dataframe\">\n",
       "  <thead>\n",
       "    <tr style=\"text-align: right;\">\n",
       "      <th></th>\n",
       "      <th>gender</th>\n",
       "      <th>name</th>\n",
       "      <th>decade</th>\n",
       "      <th>count</th>\n",
       "    </tr>\n",
       "  </thead>\n",
       "  <tbody>\n",
       "    <tr>\n",
       "      <th>32013</th>\n",
       "      <td>M</td>\n",
       "      <td>Michael</td>\n",
       "      <td>1990</td>\n",
       "      <td>462265</td>\n",
       "    </tr>\n",
       "    <tr>\n",
       "      <th>32014</th>\n",
       "      <td>M</td>\n",
       "      <td>Christopher</td>\n",
       "      <td>1990</td>\n",
       "      <td>360170</td>\n",
       "    </tr>\n",
       "    <tr>\n",
       "      <th>32015</th>\n",
       "      <td>M</td>\n",
       "      <td>Matthew</td>\n",
       "      <td>1990</td>\n",
       "      <td>351569</td>\n",
       "    </tr>\n",
       "    <tr>\n",
       "      <th>32016</th>\n",
       "      <td>M</td>\n",
       "      <td>Joshua</td>\n",
       "      <td>1990</td>\n",
       "      <td>329072</td>\n",
       "    </tr>\n",
       "    <tr>\n",
       "      <th>32017</th>\n",
       "      <td>F</td>\n",
       "      <td>Jessica</td>\n",
       "      <td>1990</td>\n",
       "      <td>303053</td>\n",
       "    </tr>\n",
       "  </tbody>\n",
       "</table>\n",
       "</div>"
      ],
      "text/plain": [
       "      gender         name  decade   count\n",
       "32013      M      Michael    1990  462265\n",
       "32014      M  Christopher    1990  360170\n",
       "32015      M      Matthew    1990  351569\n",
       "32016      M       Joshua    1990  329072\n",
       "32017      F      Jessica    1990  303053"
      ]
     },
     "execution_count": 65,
     "metadata": {},
     "output_type": "execute_result"
    }
   ],
   "source": [
    "names_1990.head()"
   ]
  },
  {
   "cell_type": "code",
   "execution_count": 66,
   "metadata": {},
   "outputs": [],
   "source": [
    "names_1990_top5 = names_1990.head()"
   ]
  },
  {
   "cell_type": "code",
   "execution_count": 67,
   "metadata": {},
   "outputs": [
    {
     "data": {
      "image/png": "[encoded data removed]",
      "text/plain": [
       "<Figure size 432x288 with 1 Axes>"
      ]
     },
     "metadata": {
      "needs_background": "light"
     },
     "output_type": "display_data"
    }
   ],
   "source": [
    "ax = sns.barplot(x='name', y='count', data=names_1990_top5)"
   ]
  },
  {
   "cell_type": "code",
   "execution_count": 68,
   "metadata": {},
   "outputs": [],
   "source": [
    "names_2000 = names[names.decade == 2000]"
   ]
  },
  {
   "cell_type": "code",
   "execution_count": 69,
   "metadata": {},
   "outputs": [
    {
     "data": {
      "text/html": [
       "<div>\n",
       "<style scoped>\n",
       "    .dataframe tbody tr th:only-of-type {\n",
       "        vertical-align: middle;\n",
       "    }\n",
       "\n",
       "    .dataframe tbody tr th {\n",
       "        vertical-align: top;\n",
       "    }\n",
       "\n",
       "    .dataframe thead th {\n",
       "        text-align: right;\n",
       "    }\n",
       "</style>\n",
       "<table border=\"1\" class=\"dataframe\">\n",
       "  <thead>\n",
       "    <tr style=\"text-align: right;\">\n",
       "      <th></th>\n",
       "      <th>gender</th>\n",
       "      <th>name</th>\n",
       "      <th>decade</th>\n",
       "      <th>count</th>\n",
       "    </tr>\n",
       "  </thead>\n",
       "  <tbody>\n",
       "    <tr>\n",
       "      <th>14151</th>\n",
       "      <td>M</td>\n",
       "      <td>Jacob</td>\n",
       "      <td>2000</td>\n",
       "      <td>273591</td>\n",
       "    </tr>\n",
       "    <tr>\n",
       "      <th>14152</th>\n",
       "      <td>M</td>\n",
       "      <td>Michael</td>\n",
       "      <td>2000</td>\n",
       "      <td>250318</td>\n",
       "    </tr>\n",
       "    <tr>\n",
       "      <th>14153</th>\n",
       "      <td>M</td>\n",
       "      <td>Joshua</td>\n",
       "      <td>2000</td>\n",
       "      <td>231729</td>\n",
       "    </tr>\n",
       "    <tr>\n",
       "      <th>14154</th>\n",
       "      <td>F</td>\n",
       "      <td>Emily</td>\n",
       "      <td>2000</td>\n",
       "      <td>223565</td>\n",
       "    </tr>\n",
       "    <tr>\n",
       "      <th>14155</th>\n",
       "      <td>M</td>\n",
       "      <td>Matthew</td>\n",
       "      <td>2000</td>\n",
       "      <td>221369</td>\n",
       "    </tr>\n",
       "  </tbody>\n",
       "</table>\n",
       "</div>"
      ],
      "text/plain": [
       "      gender     name  decade   count\n",
       "14151      M    Jacob    2000  273591\n",
       "14152      M  Michael    2000  250318\n",
       "14153      M   Joshua    2000  231729\n",
       "14154      F    Emily    2000  223565\n",
       "14155      M  Matthew    2000  221369"
      ]
     },
     "execution_count": 69,
     "metadata": {},
     "output_type": "execute_result"
    }
   ],
   "source": [
    "names_2000.head()"
   ]
  },
  {
   "cell_type": "code",
   "execution_count": 70,
   "metadata": {},
   "outputs": [
    {
     "data": {
      "text/html": [
       "<div>\n",
       "<style scoped>\n",
       "    .dataframe tbody tr th:only-of-type {\n",
       "        vertical-align: middle;\n",
       "    }\n",
       "\n",
       "    .dataframe tbody tr th {\n",
       "        vertical-align: top;\n",
       "    }\n",
       "\n",
       "    .dataframe thead th {\n",
       "        text-align: right;\n",
       "    }\n",
       "</style>\n",
       "<table border=\"1\" class=\"dataframe\">\n",
       "  <thead>\n",
       "    <tr style=\"text-align: right;\">\n",
       "      <th></th>\n",
       "      <th>gender</th>\n",
       "      <th>name</th>\n",
       "      <th>decade</th>\n",
       "      <th>count</th>\n",
       "    </tr>\n",
       "  </thead>\n",
       "  <tbody>\n",
       "    <tr>\n",
       "      <th>32012</th>\n",
       "      <td>M</td>\n",
       "      <td>Reegan</td>\n",
       "      <td>2000</td>\n",
       "      <td>5</td>\n",
       "    </tr>\n",
       "    <tr>\n",
       "      <th>30229</th>\n",
       "      <td>M</td>\n",
       "      <td>Samik</td>\n",
       "      <td>2000</td>\n",
       "      <td>5</td>\n",
       "    </tr>\n",
       "    <tr>\n",
       "      <th>30228</th>\n",
       "      <td>M</td>\n",
       "      <td>Paco</td>\n",
       "      <td>2000</td>\n",
       "      <td>5</td>\n",
       "    </tr>\n",
       "    <tr>\n",
       "      <th>30227</th>\n",
       "      <td>M</td>\n",
       "      <td>Owyn</td>\n",
       "      <td>2000</td>\n",
       "      <td>5</td>\n",
       "    </tr>\n",
       "    <tr>\n",
       "      <th>30226</th>\n",
       "      <td>M</td>\n",
       "      <td>Morrison</td>\n",
       "      <td>2000</td>\n",
       "      <td>5</td>\n",
       "    </tr>\n",
       "    <tr>\n",
       "      <th>...</th>\n",
       "      <td>...</td>\n",
       "      <td>...</td>\n",
       "      <td>...</td>\n",
       "      <td>...</td>\n",
       "    </tr>\n",
       "    <tr>\n",
       "      <th>14155</th>\n",
       "      <td>M</td>\n",
       "      <td>Matthew</td>\n",
       "      <td>2000</td>\n",
       "      <td>221369</td>\n",
       "    </tr>\n",
       "    <tr>\n",
       "      <th>14154</th>\n",
       "      <td>F</td>\n",
       "      <td>Emily</td>\n",
       "      <td>2000</td>\n",
       "      <td>223565</td>\n",
       "    </tr>\n",
       "    <tr>\n",
       "      <th>14153</th>\n",
       "      <td>M</td>\n",
       "      <td>Joshua</td>\n",
       "      <td>2000</td>\n",
       "      <td>231729</td>\n",
       "    </tr>\n",
       "    <tr>\n",
       "      <th>14152</th>\n",
       "      <td>M</td>\n",
       "      <td>Michael</td>\n",
       "      <td>2000</td>\n",
       "      <td>250318</td>\n",
       "    </tr>\n",
       "    <tr>\n",
       "      <th>14151</th>\n",
       "      <td>M</td>\n",
       "      <td>Jacob</td>\n",
       "      <td>2000</td>\n",
       "      <td>273591</td>\n",
       "    </tr>\n",
       "  </tbody>\n",
       "</table>\n",
       "<p>17862 rows × 4 columns</p>\n",
       "</div>"
      ],
      "text/plain": [
       "      gender      name  decade   count\n",
       "32012      M    Reegan    2000       5\n",
       "30229      M     Samik    2000       5\n",
       "30228      M      Paco    2000       5\n",
       "30227      M      Owyn    2000       5\n",
       "30226      M  Morrison    2000       5\n",
       "...      ...       ...     ...     ...\n",
       "14155      M   Matthew    2000  221369\n",
       "14154      F     Emily    2000  223565\n",
       "14153      M    Joshua    2000  231729\n",
       "14152      M   Michael    2000  250318\n",
       "14151      M     Jacob    2000  273591\n",
       "\n",
       "[17862 rows x 4 columns]"
      ]
     },
     "execution_count": 70,
     "metadata": {},
     "output_type": "execute_result"
    }
   ],
   "source": [
    "names_2000.sort_values(by=['count'])"
   ]
  },
  {
   "cell_type": "code",
   "execution_count": 71,
   "metadata": {},
   "outputs": [
    {
     "data": {
      "text/html": [
       "<div>\n",
       "<style scoped>\n",
       "    .dataframe tbody tr th:only-of-type {\n",
       "        vertical-align: middle;\n",
       "    }\n",
       "\n",
       "    .dataframe tbody tr th {\n",
       "        vertical-align: top;\n",
       "    }\n",
       "\n",
       "    .dataframe thead th {\n",
       "        text-align: right;\n",
       "    }\n",
       "</style>\n",
       "<table border=\"1\" class=\"dataframe\">\n",
       "  <thead>\n",
       "    <tr style=\"text-align: right;\">\n",
       "      <th></th>\n",
       "      <th>gender</th>\n",
       "      <th>name</th>\n",
       "      <th>decade</th>\n",
       "      <th>count</th>\n",
       "    </tr>\n",
       "  </thead>\n",
       "  <tbody>\n",
       "    <tr>\n",
       "      <th>14151</th>\n",
       "      <td>M</td>\n",
       "      <td>Jacob</td>\n",
       "      <td>2000</td>\n",
       "      <td>273591</td>\n",
       "    </tr>\n",
       "    <tr>\n",
       "      <th>14152</th>\n",
       "      <td>M</td>\n",
       "      <td>Michael</td>\n",
       "      <td>2000</td>\n",
       "      <td>250318</td>\n",
       "    </tr>\n",
       "    <tr>\n",
       "      <th>14153</th>\n",
       "      <td>M</td>\n",
       "      <td>Joshua</td>\n",
       "      <td>2000</td>\n",
       "      <td>231729</td>\n",
       "    </tr>\n",
       "    <tr>\n",
       "      <th>14154</th>\n",
       "      <td>F</td>\n",
       "      <td>Emily</td>\n",
       "      <td>2000</td>\n",
       "      <td>223565</td>\n",
       "    </tr>\n",
       "    <tr>\n",
       "      <th>14155</th>\n",
       "      <td>M</td>\n",
       "      <td>Matthew</td>\n",
       "      <td>2000</td>\n",
       "      <td>221369</td>\n",
       "    </tr>\n",
       "  </tbody>\n",
       "</table>\n",
       "</div>"
      ],
      "text/plain": [
       "      gender     name  decade   count\n",
       "14151      M    Jacob    2000  273591\n",
       "14152      M  Michael    2000  250318\n",
       "14153      M   Joshua    2000  231729\n",
       "14154      F    Emily    2000  223565\n",
       "14155      M  Matthew    2000  221369"
      ]
     },
     "execution_count": 71,
     "metadata": {},
     "output_type": "execute_result"
    }
   ],
   "source": [
    "names_2000.head()"
   ]
  },
  {
   "cell_type": "code",
   "execution_count": 72,
   "metadata": {},
   "outputs": [],
   "source": [
    "names_2000_top5 = names_2000.head()"
   ]
  },
  {
   "cell_type": "code",
   "execution_count": 73,
   "metadata": {},
   "outputs": [
    {
     "data": {
      "image/png": "[encoded data removed]",
      "text/plain": [
       "<Figure size 432x288 with 1 Axes>"
      ]
     },
     "metadata": {
      "needs_background": "light"
     },
     "output_type": "display_data"
    }
   ],
   "source": [
    "ax = sns.barplot(x='name', y='count', data=names_2000_top5)"
   ]
  },
  {
   "cell_type": "code",
   "execution_count": 74,
   "metadata": {},
   "outputs": [],
   "source": [
    "names_2010 = names[names.decade == 2010]"
   ]
  },
  {
   "cell_type": "code",
   "execution_count": 75,
   "metadata": {},
   "outputs": [
    {
     "data": {
      "text/html": [
       "<div>\n",
       "<style scoped>\n",
       "    .dataframe tbody tr th:only-of-type {\n",
       "        vertical-align: middle;\n",
       "    }\n",
       "\n",
       "    .dataframe tbody tr th {\n",
       "        vertical-align: top;\n",
       "    }\n",
       "\n",
       "    .dataframe thead th {\n",
       "        text-align: right;\n",
       "    }\n",
       "</style>\n",
       "<table border=\"1\" class=\"dataframe\">\n",
       "  <thead>\n",
       "    <tr style=\"text-align: right;\">\n",
       "      <th></th>\n",
       "      <th>gender</th>\n",
       "      <th>name</th>\n",
       "      <th>decade</th>\n",
       "      <th>count</th>\n",
       "    </tr>\n",
       "  </thead>\n",
       "  <tbody>\n",
       "    <tr>\n",
       "      <th>0</th>\n",
       "      <td>F</td>\n",
       "      <td>Sophia</td>\n",
       "      <td>2010</td>\n",
       "      <td>85720</td>\n",
       "    </tr>\n",
       "    <tr>\n",
       "      <th>1</th>\n",
       "      <td>M</td>\n",
       "      <td>Jacob</td>\n",
       "      <td>2010</td>\n",
       "      <td>79359</td>\n",
       "    </tr>\n",
       "    <tr>\n",
       "      <th>2</th>\n",
       "      <td>F</td>\n",
       "      <td>Isabella</td>\n",
       "      <td>2010</td>\n",
       "      <td>79238</td>\n",
       "    </tr>\n",
       "    <tr>\n",
       "      <th>3</th>\n",
       "      <td>F</td>\n",
       "      <td>Emma</td>\n",
       "      <td>2010</td>\n",
       "      <td>77736</td>\n",
       "    </tr>\n",
       "    <tr>\n",
       "      <th>4</th>\n",
       "      <td>M</td>\n",
       "      <td>Mason</td>\n",
       "      <td>2010</td>\n",
       "      <td>70808</td>\n",
       "    </tr>\n",
       "  </tbody>\n",
       "</table>\n",
       "</div>"
      ],
      "text/plain": [
       "  gender      name  decade  count\n",
       "0      F    Sophia    2010  85720\n",
       "1      M     Jacob    2010  79359\n",
       "2      F  Isabella    2010  79238\n",
       "3      F      Emma    2010  77736\n",
       "4      M     Mason    2010  70808"
      ]
     },
     "execution_count": 75,
     "metadata": {},
     "output_type": "execute_result"
    }
   ],
   "source": [
    "names_2010.head()"
   ]
  },
  {
   "cell_type": "code",
   "execution_count": 76,
   "metadata": {},
   "outputs": [
    {
     "data": {
      "text/html": [
       "<div>\n",
       "<style scoped>\n",
       "    .dataframe tbody tr th:only-of-type {\n",
       "        vertical-align: middle;\n",
       "    }\n",
       "\n",
       "    .dataframe tbody tr th {\n",
       "        vertical-align: top;\n",
       "    }\n",
       "\n",
       "    .dataframe thead th {\n",
       "        text-align: right;\n",
       "    }\n",
       "</style>\n",
       "<table border=\"1\" class=\"dataframe\">\n",
       "  <thead>\n",
       "    <tr style=\"text-align: right;\">\n",
       "      <th></th>\n",
       "      <th>gender</th>\n",
       "      <th>name</th>\n",
       "      <th>decade</th>\n",
       "      <th>count</th>\n",
       "    </tr>\n",
       "  </thead>\n",
       "  <tbody>\n",
       "    <tr>\n",
       "      <th>14150</th>\n",
       "      <td>F</td>\n",
       "      <td>Ruthann</td>\n",
       "      <td>2010</td>\n",
       "      <td>5</td>\n",
       "    </tr>\n",
       "    <tr>\n",
       "      <th>12764</th>\n",
       "      <td>M</td>\n",
       "      <td>Abhishek</td>\n",
       "      <td>2010</td>\n",
       "      <td>5</td>\n",
       "    </tr>\n",
       "    <tr>\n",
       "      <th>12765</th>\n",
       "      <td>M</td>\n",
       "      <td>Agustine</td>\n",
       "      <td>2010</td>\n",
       "      <td>5</td>\n",
       "    </tr>\n",
       "    <tr>\n",
       "      <th>12766</th>\n",
       "      <td>M</td>\n",
       "      <td>Anthoni</td>\n",
       "      <td>2010</td>\n",
       "      <td>5</td>\n",
       "    </tr>\n",
       "    <tr>\n",
       "      <th>12767</th>\n",
       "      <td>M</td>\n",
       "      <td>Ariv</td>\n",
       "      <td>2010</td>\n",
       "      <td>5</td>\n",
       "    </tr>\n",
       "    <tr>\n",
       "      <th>...</th>\n",
       "      <td>...</td>\n",
       "      <td>...</td>\n",
       "      <td>...</td>\n",
       "      <td>...</td>\n",
       "    </tr>\n",
       "    <tr>\n",
       "      <th>4</th>\n",
       "      <td>M</td>\n",
       "      <td>Mason</td>\n",
       "      <td>2010</td>\n",
       "      <td>70808</td>\n",
       "    </tr>\n",
       "    <tr>\n",
       "      <th>3</th>\n",
       "      <td>F</td>\n",
       "      <td>Emma</td>\n",
       "      <td>2010</td>\n",
       "      <td>77736</td>\n",
       "    </tr>\n",
       "    <tr>\n",
       "      <th>2</th>\n",
       "      <td>F</td>\n",
       "      <td>Isabella</td>\n",
       "      <td>2010</td>\n",
       "      <td>79238</td>\n",
       "    </tr>\n",
       "    <tr>\n",
       "      <th>1</th>\n",
       "      <td>M</td>\n",
       "      <td>Jacob</td>\n",
       "      <td>2010</td>\n",
       "      <td>79359</td>\n",
       "    </tr>\n",
       "    <tr>\n",
       "      <th>0</th>\n",
       "      <td>F</td>\n",
       "      <td>Sophia</td>\n",
       "      <td>2010</td>\n",
       "      <td>85720</td>\n",
       "    </tr>\n",
       "  </tbody>\n",
       "</table>\n",
       "<p>14151 rows × 4 columns</p>\n",
       "</div>"
      ],
      "text/plain": [
       "      gender      name  decade  count\n",
       "14150      F   Ruthann    2010      5\n",
       "12764      M  Abhishek    2010      5\n",
       "12765      M  Agustine    2010      5\n",
       "12766      M   Anthoni    2010      5\n",
       "12767      M      Ariv    2010      5\n",
       "...      ...       ...     ...    ...\n",
       "4          M     Mason    2010  70808\n",
       "3          F      Emma    2010  77736\n",
       "2          F  Isabella    2010  79238\n",
       "1          M     Jacob    2010  79359\n",
       "0          F    Sophia    2010  85720\n",
       "\n",
       "[14151 rows x 4 columns]"
      ]
     },
     "execution_count": 76,
     "metadata": {},
     "output_type": "execute_result"
    }
   ],
   "source": [
    "names_2010.sort_values(by=['count'])"
   ]
  },
  {
   "cell_type": "code",
   "execution_count": 77,
   "metadata": {},
   "outputs": [
    {
     "data": {
      "text/html": [
       "<div>\n",
       "<style scoped>\n",
       "    .dataframe tbody tr th:only-of-type {\n",
       "        vertical-align: middle;\n",
       "    }\n",
       "\n",
       "    .dataframe tbody tr th {\n",
       "        vertical-align: top;\n",
       "    }\n",
       "\n",
       "    .dataframe thead th {\n",
       "        text-align: right;\n",
       "    }\n",
       "</style>\n",
       "<table border=\"1\" class=\"dataframe\">\n",
       "  <thead>\n",
       "    <tr style=\"text-align: right;\">\n",
       "      <th></th>\n",
       "      <th>gender</th>\n",
       "      <th>name</th>\n",
       "      <th>decade</th>\n",
       "      <th>count</th>\n",
       "    </tr>\n",
       "  </thead>\n",
       "  <tbody>\n",
       "    <tr>\n",
       "      <th>0</th>\n",
       "      <td>F</td>\n",
       "      <td>Sophia</td>\n",
       "      <td>2010</td>\n",
       "      <td>85720</td>\n",
       "    </tr>\n",
       "    <tr>\n",
       "      <th>1</th>\n",
       "      <td>M</td>\n",
       "      <td>Jacob</td>\n",
       "      <td>2010</td>\n",
       "      <td>79359</td>\n",
       "    </tr>\n",
       "    <tr>\n",
       "      <th>2</th>\n",
       "      <td>F</td>\n",
       "      <td>Isabella</td>\n",
       "      <td>2010</td>\n",
       "      <td>79238</td>\n",
       "    </tr>\n",
       "    <tr>\n",
       "      <th>3</th>\n",
       "      <td>F</td>\n",
       "      <td>Emma</td>\n",
       "      <td>2010</td>\n",
       "      <td>77736</td>\n",
       "    </tr>\n",
       "    <tr>\n",
       "      <th>4</th>\n",
       "      <td>M</td>\n",
       "      <td>Mason</td>\n",
       "      <td>2010</td>\n",
       "      <td>70808</td>\n",
       "    </tr>\n",
       "  </tbody>\n",
       "</table>\n",
       "</div>"
      ],
      "text/plain": [
       "  gender      name  decade  count\n",
       "0      F    Sophia    2010  85720\n",
       "1      M     Jacob    2010  79359\n",
       "2      F  Isabella    2010  79238\n",
       "3      F      Emma    2010  77736\n",
       "4      M     Mason    2010  70808"
      ]
     },
     "execution_count": 77,
     "metadata": {},
     "output_type": "execute_result"
    }
   ],
   "source": [
    "names_2010.head()"
   ]
  },
  {
   "cell_type": "code",
   "execution_count": 78,
   "metadata": {},
   "outputs": [],
   "source": [
    "names_2010_top5 = names_2010.head()"
   ]
  },
  {
   "cell_type": "code",
   "execution_count": 79,
   "metadata": {},
   "outputs": [
    {
     "data": {
      "image/png": "[encoded data removed]",
      "text/plain": [
       "<Figure size 432x288 with 1 Axes>"
      ]
     },
     "metadata": {
      "needs_background": "light"
     },
     "output_type": "display_data"
    }
   ],
   "source": [
    "ax = sns.barplot(x='name', y='count', data=names_2010_top5)"
   ]
  },
  {
   "cell_type": "markdown",
   "metadata": {},
   "source": [
    "### 3. Plot a graph depicting the distribution of the Names that are Female in decade 1980."
   ]
  },
  {
   "cell_type": "markdown",
   "metadata": {},
   "source": [
    "### This task required a similar approach as the previous one. I created a new data-set where I only included the female names in 1980. \n",
    "### To see the distribution of a numerical data in a fast an easy way I used histogram. This way I could also determine the shape of the distribution so it shows if the output is distributed normally or not. There is an opportunity also to see outliers."
   ]
  },
  {
   "cell_type": "code",
   "execution_count": 80,
   "metadata": {},
   "outputs": [],
   "source": [
    "names_1980_female = names_1980[names_1980.gender == 'F']"
   ]
  },
  {
   "cell_type": "code",
   "execution_count": 81,
   "metadata": {},
   "outputs": [
    {
     "data": {
      "text/html": [
       "<div>\n",
       "<style scoped>\n",
       "    .dataframe tbody tr th:only-of-type {\n",
       "        vertical-align: middle;\n",
       "    }\n",
       "\n",
       "    .dataframe tbody tr th {\n",
       "        vertical-align: top;\n",
       "    }\n",
       "\n",
       "    .dataframe thead th {\n",
       "        text-align: right;\n",
       "    }\n",
       "</style>\n",
       "<table border=\"1\" class=\"dataframe\">\n",
       "  <thead>\n",
       "    <tr style=\"text-align: right;\">\n",
       "      <th></th>\n",
       "      <th>gender</th>\n",
       "      <th>name</th>\n",
       "      <th>decade</th>\n",
       "      <th>count</th>\n",
       "    </tr>\n",
       "  </thead>\n",
       "  <tbody>\n",
       "    <tr>\n",
       "      <th>47735</th>\n",
       "      <td>F</td>\n",
       "      <td>Jessica</td>\n",
       "      <td>1980</td>\n",
       "      <td>469415</td>\n",
       "    </tr>\n",
       "    <tr>\n",
       "      <th>47737</th>\n",
       "      <td>F</td>\n",
       "      <td>Jennifer</td>\n",
       "      <td>1980</td>\n",
       "      <td>440818</td>\n",
       "    </tr>\n",
       "    <tr>\n",
       "      <th>47740</th>\n",
       "      <td>F</td>\n",
       "      <td>Amanda</td>\n",
       "      <td>1980</td>\n",
       "      <td>369679</td>\n",
       "    </tr>\n",
       "    <tr>\n",
       "      <th>47742</th>\n",
       "      <td>F</td>\n",
       "      <td>Ashley</td>\n",
       "      <td>1980</td>\n",
       "      <td>352122</td>\n",
       "    </tr>\n",
       "    <tr>\n",
       "      <th>47751</th>\n",
       "      <td>F</td>\n",
       "      <td>Sarah</td>\n",
       "      <td>1980</td>\n",
       "      <td>272522</td>\n",
       "    </tr>\n",
       "  </tbody>\n",
       "</table>\n",
       "</div>"
      ],
      "text/plain": [
       "      gender      name  decade   count\n",
       "47735      F   Jessica    1980  469415\n",
       "47737      F  Jennifer    1980  440818\n",
       "47740      F    Amanda    1980  369679\n",
       "47742      F    Ashley    1980  352122\n",
       "47751      F     Sarah    1980  272522"
      ]
     },
     "execution_count": 81,
     "metadata": {},
     "output_type": "execute_result"
    }
   ],
   "source": [
    "names_1980_female.head()"
   ]
  },
  {
   "cell_type": "code",
   "execution_count": 82,
   "metadata": {},
   "outputs": [
    {
     "data": {
      "text/html": [
       "<div>\n",
       "<style scoped>\n",
       "    .dataframe tbody tr th:only-of-type {\n",
       "        vertical-align: middle;\n",
       "    }\n",
       "\n",
       "    .dataframe tbody tr th {\n",
       "        vertical-align: top;\n",
       "    }\n",
       "\n",
       "    .dataframe thead th {\n",
       "        text-align: right;\n",
       "    }\n",
       "</style>\n",
       "<table border=\"1\" class=\"dataframe\">\n",
       "  <thead>\n",
       "    <tr style=\"text-align: right;\">\n",
       "      <th></th>\n",
       "      <th>gender</th>\n",
       "      <th>name</th>\n",
       "      <th>decade</th>\n",
       "      <th>count</th>\n",
       "    </tr>\n",
       "  </thead>\n",
       "  <tbody>\n",
       "    <tr>\n",
       "      <th>60164</th>\n",
       "      <td>F</td>\n",
       "      <td>Micheala</td>\n",
       "      <td>1980</td>\n",
       "      <td>5</td>\n",
       "    </tr>\n",
       "    <tr>\n",
       "      <th>58677</th>\n",
       "      <td>F</td>\n",
       "      <td>Kylah</td>\n",
       "      <td>1980</td>\n",
       "      <td>5</td>\n",
       "    </tr>\n",
       "    <tr>\n",
       "      <th>58678</th>\n",
       "      <td>F</td>\n",
       "      <td>Leeza</td>\n",
       "      <td>1980</td>\n",
       "      <td>5</td>\n",
       "    </tr>\n",
       "    <tr>\n",
       "      <th>58679</th>\n",
       "      <td>F</td>\n",
       "      <td>Liliane</td>\n",
       "      <td>1980</td>\n",
       "      <td>5</td>\n",
       "    </tr>\n",
       "    <tr>\n",
       "      <th>58680</th>\n",
       "      <td>F</td>\n",
       "      <td>Maika</td>\n",
       "      <td>1980</td>\n",
       "      <td>5</td>\n",
       "    </tr>\n",
       "    <tr>\n",
       "      <th>...</th>\n",
       "      <td>...</td>\n",
       "      <td>...</td>\n",
       "      <td>...</td>\n",
       "      <td>...</td>\n",
       "    </tr>\n",
       "    <tr>\n",
       "      <th>47751</th>\n",
       "      <td>F</td>\n",
       "      <td>Sarah</td>\n",
       "      <td>1980</td>\n",
       "      <td>272522</td>\n",
       "    </tr>\n",
       "    <tr>\n",
       "      <th>47742</th>\n",
       "      <td>F</td>\n",
       "      <td>Ashley</td>\n",
       "      <td>1980</td>\n",
       "      <td>352122</td>\n",
       "    </tr>\n",
       "    <tr>\n",
       "      <th>47740</th>\n",
       "      <td>F</td>\n",
       "      <td>Amanda</td>\n",
       "      <td>1980</td>\n",
       "      <td>369679</td>\n",
       "    </tr>\n",
       "    <tr>\n",
       "      <th>47737</th>\n",
       "      <td>F</td>\n",
       "      <td>Jennifer</td>\n",
       "      <td>1980</td>\n",
       "      <td>440818</td>\n",
       "    </tr>\n",
       "    <tr>\n",
       "      <th>47735</th>\n",
       "      <td>F</td>\n",
       "      <td>Jessica</td>\n",
       "      <td>1980</td>\n",
       "      <td>469415</td>\n",
       "    </tr>\n",
       "  </tbody>\n",
       "</table>\n",
       "<p>7408 rows × 4 columns</p>\n",
       "</div>"
      ],
      "text/plain": [
       "      gender      name  decade   count\n",
       "60164      F  Micheala    1980       5\n",
       "58677      F     Kylah    1980       5\n",
       "58678      F     Leeza    1980       5\n",
       "58679      F   Liliane    1980       5\n",
       "58680      F     Maika    1980       5\n",
       "...      ...       ...     ...     ...\n",
       "47751      F     Sarah    1980  272522\n",
       "47742      F    Ashley    1980  352122\n",
       "47740      F    Amanda    1980  369679\n",
       "47737      F  Jennifer    1980  440818\n",
       "47735      F   Jessica    1980  469415\n",
       "\n",
       "[7408 rows x 4 columns]"
      ]
     },
     "execution_count": 82,
     "metadata": {},
     "output_type": "execute_result"
    }
   ],
   "source": [
    "names_1980_female.sort_values(by=['count'])"
   ]
  },
  {
   "cell_type": "code",
   "execution_count": 83,
   "metadata": {},
   "outputs": [
    {
     "name": "stdout",
     "output_type": "stream",
     "text": [
      "<class 'pandas.core.frame.DataFrame'>\n",
      "Int64Index: 7408 entries, 47735 to 60164\n",
      "Data columns (total 4 columns):\n",
      " #   Column  Non-Null Count  Dtype \n",
      "---  ------  --------------  ----- \n",
      " 0   gender  7408 non-null   object\n",
      " 1   name    7408 non-null   object\n",
      " 2   decade  7408 non-null   int64 \n",
      " 3   count   7408 non-null   int64 \n",
      "dtypes: int64(2), object(2)\n",
      "memory usage: 289.4+ KB\n"
     ]
    }
   ],
   "source": [
    "names_1980_female.info()"
   ]
  },
  {
   "cell_type": "code",
   "execution_count": 84,
   "metadata": {},
   "outputs": [
    {
     "data": {
      "text/plain": [
       "29632"
      ]
     },
     "execution_count": 84,
     "metadata": {},
     "output_type": "execute_result"
    }
   ],
   "source": [
    "names_1980_female.size"
   ]
  },
  {
   "cell_type": "code",
   "execution_count": 85,
   "metadata": {},
   "outputs": [
    {
     "data": {
      "text/plain": [
       "<bound method NDFrame.describe of       gender        name  decade   count\n",
       "47735      F     Jessica    1980  469415\n",
       "47737      F    Jennifer    1980  440818\n",
       "47740      F      Amanda    1980  369679\n",
       "47742      F      Ashley    1980  352122\n",
       "47751      F       Sarah    1980  272522\n",
       "...      ...         ...     ...     ...\n",
       "60154      F     Tonette    1980       5\n",
       "60155      F     Talesha    1980       5\n",
       "60161      F  Jacqualine    1980       5\n",
       "60162      F      Kaarin    1980       5\n",
       "60164      F    Micheala    1980       5\n",
       "\n",
       "[7408 rows x 4 columns]>"
      ]
     },
     "execution_count": 85,
     "metadata": {},
     "output_type": "execute_result"
    }
   ],
   "source": [
    "names_1980_female.describe"
   ]
  },
  {
   "cell_type": "code",
   "execution_count": 86,
   "metadata": {},
   "outputs": [
    {
     "data": {
      "image/png": "[encoded data removed]",
      "text/plain": [
       "<Figure size 432x288 with 1 Axes>"
      ]
     },
     "metadata": {
      "needs_background": "light"
     },
     "output_type": "display_data"
    }
   ],
   "source": [
    "sns.distplot(names_1980_female.index, label=\"Distribution of female names in the dacade of 1980\", color=\"r\")\n",
    "plt.legend()\n",
    "plt.show()"
   ]
  },
  {
   "cell_type": "markdown",
   "metadata": {},
   "source": [
    "### 4. Find out and visualize which decade had the MOST names."
   ]
  },
  {
   "cell_type": "markdown",
   "metadata": {},
   "source": [
    "### My approach was similar here as at the previous instances. I created a new data-set to seperate the relevant information. The value of my new variables were the sum of the count variables from each of the representative decade.  \n",
    "### For the visualization I used a relatively new feature of Seaborne, Catplot. Catplot is similar to barplot it also involves categorical variable and numerical one, therefore it also fits the purpose perfectly. Although I could use barplot as previously, I decided to show my technical capability of utilising different plots.\n",
    "### Only out of curiosity I visualized the amount of unique names per decade with the same approach."
   ]
  },
  {
   "cell_type": "code",
   "execution_count": 87,
   "metadata": {},
   "outputs": [
    {
     "data": {
      "text/html": [
       "<div>\n",
       "<style scoped>\n",
       "    .dataframe tbody tr th:only-of-type {\n",
       "        vertical-align: middle;\n",
       "    }\n",
       "\n",
       "    .dataframe tbody tr th {\n",
       "        vertical-align: top;\n",
       "    }\n",
       "\n",
       "    .dataframe thead th {\n",
       "        text-align: right;\n",
       "    }\n",
       "</style>\n",
       "<table border=\"1\" class=\"dataframe\">\n",
       "  <thead>\n",
       "    <tr style=\"text-align: right;\">\n",
       "      <th></th>\n",
       "      <th>gender</th>\n",
       "      <th>name</th>\n",
       "      <th>decade</th>\n",
       "      <th>count</th>\n",
       "    </tr>\n",
       "  </thead>\n",
       "  <tbody>\n",
       "    <tr>\n",
       "      <th>108383</th>\n",
       "      <td>M</td>\n",
       "      <td>Harless</td>\n",
       "      <td>1910</td>\n",
       "      <td>5</td>\n",
       "    </tr>\n",
       "    <tr>\n",
       "      <th>104591</th>\n",
       "      <td>F</td>\n",
       "      <td>Linnea</td>\n",
       "      <td>1910</td>\n",
       "      <td>144</td>\n",
       "    </tr>\n",
       "    <tr>\n",
       "      <th>104592</th>\n",
       "      <td>F</td>\n",
       "      <td>Gertha</td>\n",
       "      <td>1910</td>\n",
       "      <td>143</td>\n",
       "    </tr>\n",
       "    <tr>\n",
       "      <th>104593</th>\n",
       "      <td>M</td>\n",
       "      <td>Hezekiah</td>\n",
       "      <td>1910</td>\n",
       "      <td>143</td>\n",
       "    </tr>\n",
       "    <tr>\n",
       "      <th>104594</th>\n",
       "      <td>M</td>\n",
       "      <td>Heyward</td>\n",
       "      <td>1910</td>\n",
       "      <td>143</td>\n",
       "    </tr>\n",
       "    <tr>\n",
       "      <th>...</th>\n",
       "      <td>...</td>\n",
       "      <td>...</td>\n",
       "      <td>...</td>\n",
       "      <td>...</td>\n",
       "    </tr>\n",
       "    <tr>\n",
       "      <th>9429</th>\n",
       "      <td>M</td>\n",
       "      <td>Khali</td>\n",
       "      <td>2010</td>\n",
       "      <td>15</td>\n",
       "    </tr>\n",
       "    <tr>\n",
       "      <th>9428</th>\n",
       "      <td>M</td>\n",
       "      <td>Raider</td>\n",
       "      <td>2010</td>\n",
       "      <td>15</td>\n",
       "    </tr>\n",
       "    <tr>\n",
       "      <th>9427</th>\n",
       "      <td>M</td>\n",
       "      <td>Loukas</td>\n",
       "      <td>2010</td>\n",
       "      <td>15</td>\n",
       "    </tr>\n",
       "    <tr>\n",
       "      <th>9438</th>\n",
       "      <td>M</td>\n",
       "      <td>Jacquez</td>\n",
       "      <td>2010</td>\n",
       "      <td>15</td>\n",
       "    </tr>\n",
       "    <tr>\n",
       "      <th>0</th>\n",
       "      <td>F</td>\n",
       "      <td>Sophia</td>\n",
       "      <td>2010</td>\n",
       "      <td>85720</td>\n",
       "    </tr>\n",
       "  </tbody>\n",
       "</table>\n",
       "<p>108384 rows × 4 columns</p>\n",
       "</div>"
      ],
      "text/plain": [
       "       gender      name  decade  count\n",
       "108383      M   Harless    1910      5\n",
       "104591      F    Linnea    1910    144\n",
       "104592      F    Gertha    1910    143\n",
       "104593      M  Hezekiah    1910    143\n",
       "104594      M   Heyward    1910    143\n",
       "...       ...       ...     ...    ...\n",
       "9429        M     Khali    2010     15\n",
       "9428        M    Raider    2010     15\n",
       "9427        M    Loukas    2010     15\n",
       "9438        M   Jacquez    2010     15\n",
       "0           F    Sophia    2010  85720\n",
       "\n",
       "[108384 rows x 4 columns]"
      ]
     },
     "execution_count": 87,
     "metadata": {},
     "output_type": "execute_result"
    }
   ],
   "source": [
    "names.sort_values(by=['decade'])"
   ]
  },
  {
   "cell_type": "code",
   "execution_count": 88,
   "metadata": {},
   "outputs": [],
   "source": [
    "most_names = names"
   ]
  },
  {
   "cell_type": "code",
   "execution_count": 89,
   "metadata": {},
   "outputs": [],
   "source": [
    "most_names = most_names.drop(columns='gender')\n",
    "most_names = most_names.drop(columns='name')\n",
    "most_names = most_names.drop(columns='decade')\n",
    "most_names = most_names.drop(columns='count')"
   ]
  },
  {
   "cell_type": "code",
   "execution_count": 90,
   "metadata": {},
   "outputs": [],
   "source": [
    "most_names[1910] = names_1910['count'].sum()\n",
    "most_names[1920] = names_1920['count'].sum()\n",
    "most_names[1930] = names_1930['count'].sum()\n",
    "most_names[1940] = names_1940['count'].sum()\n",
    "most_names[1950] = names_1950['count'].sum()\n",
    "most_names[1960] = names_1960['count'].sum()\n",
    "most_names[1970] = names_1970['count'].sum()\n",
    "most_names[1980] = names_1980['count'].sum()\n",
    "most_names[1990] = names_1990['count'].sum()\n",
    "most_names[2000] = names_2000['count'].sum()\n",
    "most_names[2010] = names_2010['count'].sum()"
   ]
  },
  {
   "cell_type": "code",
   "execution_count": 91,
   "metadata": {},
   "outputs": [
    {
     "data": {
      "text/html": [
       "<div>\n",
       "<style scoped>\n",
       "    .dataframe tbody tr th:only-of-type {\n",
       "        vertical-align: middle;\n",
       "    }\n",
       "\n",
       "    .dataframe tbody tr th {\n",
       "        vertical-align: top;\n",
       "    }\n",
       "\n",
       "    .dataframe thead th {\n",
       "        text-align: right;\n",
       "    }\n",
       "</style>\n",
       "<table border=\"1\" class=\"dataframe\">\n",
       "  <thead>\n",
       "    <tr style=\"text-align: right;\">\n",
       "      <th></th>\n",
       "      <th>1910</th>\n",
       "      <th>1920</th>\n",
       "      <th>1930</th>\n",
       "      <th>1940</th>\n",
       "      <th>1950</th>\n",
       "      <th>1960</th>\n",
       "      <th>1970</th>\n",
       "      <th>1980</th>\n",
       "      <th>1990</th>\n",
       "      <th>2000</th>\n",
       "      <th>2010</th>\n",
       "    </tr>\n",
       "  </thead>\n",
       "  <tbody>\n",
       "    <tr>\n",
       "      <th>0</th>\n",
       "      <td>13592350</td>\n",
       "      <td>21375400</td>\n",
       "      <td>19782373</td>\n",
       "      <td>27776913</td>\n",
       "      <td>37545138</td>\n",
       "      <td>35405002</td>\n",
       "      <td>29238092</td>\n",
       "      <td>32349146</td>\n",
       "      <td>33309594</td>\n",
       "      <td>33041629</td>\n",
       "      <td>12311428</td>\n",
       "    </tr>\n",
       "    <tr>\n",
       "      <th>1</th>\n",
       "      <td>13592350</td>\n",
       "      <td>21375400</td>\n",
       "      <td>19782373</td>\n",
       "      <td>27776913</td>\n",
       "      <td>37545138</td>\n",
       "      <td>35405002</td>\n",
       "      <td>29238092</td>\n",
       "      <td>32349146</td>\n",
       "      <td>33309594</td>\n",
       "      <td>33041629</td>\n",
       "      <td>12311428</td>\n",
       "    </tr>\n",
       "    <tr>\n",
       "      <th>2</th>\n",
       "      <td>13592350</td>\n",
       "      <td>21375400</td>\n",
       "      <td>19782373</td>\n",
       "      <td>27776913</td>\n",
       "      <td>37545138</td>\n",
       "      <td>35405002</td>\n",
       "      <td>29238092</td>\n",
       "      <td>32349146</td>\n",
       "      <td>33309594</td>\n",
       "      <td>33041629</td>\n",
       "      <td>12311428</td>\n",
       "    </tr>\n",
       "    <tr>\n",
       "      <th>3</th>\n",
       "      <td>13592350</td>\n",
       "      <td>21375400</td>\n",
       "      <td>19782373</td>\n",
       "      <td>27776913</td>\n",
       "      <td>37545138</td>\n",
       "      <td>35405002</td>\n",
       "      <td>29238092</td>\n",
       "      <td>32349146</td>\n",
       "      <td>33309594</td>\n",
       "      <td>33041629</td>\n",
       "      <td>12311428</td>\n",
       "    </tr>\n",
       "    <tr>\n",
       "      <th>4</th>\n",
       "      <td>13592350</td>\n",
       "      <td>21375400</td>\n",
       "      <td>19782373</td>\n",
       "      <td>27776913</td>\n",
       "      <td>37545138</td>\n",
       "      <td>35405002</td>\n",
       "      <td>29238092</td>\n",
       "      <td>32349146</td>\n",
       "      <td>33309594</td>\n",
       "      <td>33041629</td>\n",
       "      <td>12311428</td>\n",
       "    </tr>\n",
       "  </tbody>\n",
       "</table>\n",
       "</div>"
      ],
      "text/plain": [
       "       1910      1920      1930      1940      1950      1960      1970  \\\n",
       "0  13592350  21375400  19782373  27776913  37545138  35405002  29238092   \n",
       "1  13592350  21375400  19782373  27776913  37545138  35405002  29238092   \n",
       "2  13592350  21375400  19782373  27776913  37545138  35405002  29238092   \n",
       "3  13592350  21375400  19782373  27776913  37545138  35405002  29238092   \n",
       "4  13592350  21375400  19782373  27776913  37545138  35405002  29238092   \n",
       "\n",
       "       1980      1990      2000      2010  \n",
       "0  32349146  33309594  33041629  12311428  \n",
       "1  32349146  33309594  33041629  12311428  \n",
       "2  32349146  33309594  33041629  12311428  \n",
       "3  32349146  33309594  33041629  12311428  \n",
       "4  32349146  33309594  33041629  12311428  "
      ]
     },
     "execution_count": 91,
     "metadata": {},
     "output_type": "execute_result"
    }
   ],
   "source": [
    "most_names.head()"
   ]
  },
  {
   "cell_type": "code",
   "execution_count": 92,
   "metadata": {},
   "outputs": [],
   "source": [
    "most_names = most_names.drop_duplicates()"
   ]
  },
  {
   "cell_type": "code",
   "execution_count": 93,
   "metadata": {},
   "outputs": [
    {
     "data": {
      "text/html": [
       "<div>\n",
       "<style scoped>\n",
       "    .dataframe tbody tr th:only-of-type {\n",
       "        vertical-align: middle;\n",
       "    }\n",
       "\n",
       "    .dataframe tbody tr th {\n",
       "        vertical-align: top;\n",
       "    }\n",
       "\n",
       "    .dataframe thead th {\n",
       "        text-align: right;\n",
       "    }\n",
       "</style>\n",
       "<table border=\"1\" class=\"dataframe\">\n",
       "  <thead>\n",
       "    <tr style=\"text-align: right;\">\n",
       "      <th></th>\n",
       "      <th>1910</th>\n",
       "      <th>1920</th>\n",
       "      <th>1930</th>\n",
       "      <th>1940</th>\n",
       "      <th>1950</th>\n",
       "      <th>1960</th>\n",
       "      <th>1970</th>\n",
       "      <th>1980</th>\n",
       "      <th>1990</th>\n",
       "      <th>2000</th>\n",
       "      <th>2010</th>\n",
       "    </tr>\n",
       "  </thead>\n",
       "  <tbody>\n",
       "    <tr>\n",
       "      <th>0</th>\n",
       "      <td>13592350</td>\n",
       "      <td>21375400</td>\n",
       "      <td>19782373</td>\n",
       "      <td>27776913</td>\n",
       "      <td>37545138</td>\n",
       "      <td>35405002</td>\n",
       "      <td>29238092</td>\n",
       "      <td>32349146</td>\n",
       "      <td>33309594</td>\n",
       "      <td>33041629</td>\n",
       "      <td>12311428</td>\n",
       "    </tr>\n",
       "  </tbody>\n",
       "</table>\n",
       "</div>"
      ],
      "text/plain": [
       "       1910      1920      1930      1940      1950      1960      1970  \\\n",
       "0  13592350  21375400  19782373  27776913  37545138  35405002  29238092   \n",
       "\n",
       "       1980      1990      2000      2010  \n",
       "0  32349146  33309594  33041629  12311428  "
      ]
     },
     "execution_count": 93,
     "metadata": {},
     "output_type": "execute_result"
    }
   ],
   "source": [
    "most_names.head()"
   ]
  },
  {
   "cell_type": "code",
   "execution_count": 94,
   "metadata": {},
   "outputs": [
    {
     "data": {
      "text/plain": [
       "<seaborn.axisgrid.FacetGrid at 0xc174940>"
      ]
     },
     "execution_count": 94,
     "metadata": {},
     "output_type": "execute_result"
    },
    {
     "data": {
      "image/png": "[encoded data removed]",
      "text/plain": [
       "<Figure size 432x432 with 1 Axes>"
      ]
     },
     "metadata": {
      "needs_background": "light"
     },
     "output_type": "display_data"
    }
   ],
   "source": [
    "g = sns.catplot(\n",
    "    data=most_names, kind=\"bar\",\n",
    "    ci=\"sd\", palette=\"dark\", alpha=.6, height=6\n",
    ")\n",
    "g.despine(left=True)\n",
    "g.set_axis_labels(\"Decades\", \"Number of names given x 10 million\")"
   ]
  },
  {
   "cell_type": "markdown",
   "metadata": {},
   "source": []
  },
  {
   "cell_type": "code",
   "execution_count": 95,
   "metadata": {},
   "outputs": [],
   "source": [
    "names_per_decade = names"
   ]
  },
  {
   "cell_type": "code",
   "execution_count": 96,
   "metadata": {},
   "outputs": [],
   "source": [
    "names_per_decade[1910] = len(names_1910)\n",
    "names_per_decade[1920] = len(names_1920)\n",
    "names_per_decade[1930] = len(names_1930)\n",
    "names_per_decade[1940] = len(names_1940)\n",
    "names_per_decade[1950] = len(names_1950)\n",
    "names_per_decade[1960] = len(names_1960)\n",
    "names_per_decade[1970] = len(names_1970)\n",
    "names_per_decade[1980] = len(names_1980)\n",
    "names_per_decade[1990] = len(names_1990)\n",
    "names_per_decade[2000] = len(names_2000)\n",
    "names_per_decade[2010] = len(names_2010)\n",
    "names_per_decade = names_per_decade.drop_duplicates()"
   ]
  },
  {
   "cell_type": "code",
   "execution_count": 97,
   "metadata": {},
   "outputs": [
    {
     "data": {
      "text/html": [
       "<div>\n",
       "<style scoped>\n",
       "    .dataframe tbody tr th:only-of-type {\n",
       "        vertical-align: middle;\n",
       "    }\n",
       "\n",
       "    .dataframe tbody tr th {\n",
       "        vertical-align: top;\n",
       "    }\n",
       "\n",
       "    .dataframe thead th {\n",
       "        text-align: right;\n",
       "    }\n",
       "</style>\n",
       "<table border=\"1\" class=\"dataframe\">\n",
       "  <thead>\n",
       "    <tr style=\"text-align: right;\">\n",
       "      <th></th>\n",
       "      <th>gender</th>\n",
       "      <th>name</th>\n",
       "      <th>decade</th>\n",
       "      <th>count</th>\n",
       "      <th>1910</th>\n",
       "      <th>1920</th>\n",
       "      <th>1930</th>\n",
       "      <th>1940</th>\n",
       "      <th>1950</th>\n",
       "      <th>1960</th>\n",
       "      <th>1970</th>\n",
       "      <th>1980</th>\n",
       "      <th>1990</th>\n",
       "      <th>2000</th>\n",
       "      <th>2010</th>\n",
       "    </tr>\n",
       "  </thead>\n",
       "  <tbody>\n",
       "    <tr>\n",
       "      <th>0</th>\n",
       "      <td>F</td>\n",
       "      <td>Sophia</td>\n",
       "      <td>2010</td>\n",
       "      <td>85720</td>\n",
       "      <td>5679</td>\n",
       "      <td>6899</td>\n",
       "      <td>5883</td>\n",
       "      <td>5920</td>\n",
       "      <td>6701</td>\n",
       "      <td>7383</td>\n",
       "      <td>9751</td>\n",
       "      <td>12435</td>\n",
       "      <td>15720</td>\n",
       "      <td>17862</td>\n",
       "      <td>14151</td>\n",
       "    </tr>\n",
       "    <tr>\n",
       "      <th>1</th>\n",
       "      <td>M</td>\n",
       "      <td>Jacob</td>\n",
       "      <td>2010</td>\n",
       "      <td>79359</td>\n",
       "      <td>5679</td>\n",
       "      <td>6899</td>\n",
       "      <td>5883</td>\n",
       "      <td>5920</td>\n",
       "      <td>6701</td>\n",
       "      <td>7383</td>\n",
       "      <td>9751</td>\n",
       "      <td>12435</td>\n",
       "      <td>15720</td>\n",
       "      <td>17862</td>\n",
       "      <td>14151</td>\n",
       "    </tr>\n",
       "    <tr>\n",
       "      <th>2</th>\n",
       "      <td>F</td>\n",
       "      <td>Isabella</td>\n",
       "      <td>2010</td>\n",
       "      <td>79238</td>\n",
       "      <td>5679</td>\n",
       "      <td>6899</td>\n",
       "      <td>5883</td>\n",
       "      <td>5920</td>\n",
       "      <td>6701</td>\n",
       "      <td>7383</td>\n",
       "      <td>9751</td>\n",
       "      <td>12435</td>\n",
       "      <td>15720</td>\n",
       "      <td>17862</td>\n",
       "      <td>14151</td>\n",
       "    </tr>\n",
       "    <tr>\n",
       "      <th>3</th>\n",
       "      <td>F</td>\n",
       "      <td>Emma</td>\n",
       "      <td>2010</td>\n",
       "      <td>77736</td>\n",
       "      <td>5679</td>\n",
       "      <td>6899</td>\n",
       "      <td>5883</td>\n",
       "      <td>5920</td>\n",
       "      <td>6701</td>\n",
       "      <td>7383</td>\n",
       "      <td>9751</td>\n",
       "      <td>12435</td>\n",
       "      <td>15720</td>\n",
       "      <td>17862</td>\n",
       "      <td>14151</td>\n",
       "    </tr>\n",
       "    <tr>\n",
       "      <th>4</th>\n",
       "      <td>M</td>\n",
       "      <td>Mason</td>\n",
       "      <td>2010</td>\n",
       "      <td>70808</td>\n",
       "      <td>5679</td>\n",
       "      <td>6899</td>\n",
       "      <td>5883</td>\n",
       "      <td>5920</td>\n",
       "      <td>6701</td>\n",
       "      <td>7383</td>\n",
       "      <td>9751</td>\n",
       "      <td>12435</td>\n",
       "      <td>15720</td>\n",
       "      <td>17862</td>\n",
       "      <td>14151</td>\n",
       "    </tr>\n",
       "  </tbody>\n",
       "</table>\n",
       "</div>"
      ],
      "text/plain": [
       "  gender      name  decade  count  1910  1920  1930  1940  1950  1960  1970  \\\n",
       "0      F    Sophia    2010  85720  5679  6899  5883  5920  6701  7383  9751   \n",
       "1      M     Jacob    2010  79359  5679  6899  5883  5920  6701  7383  9751   \n",
       "2      F  Isabella    2010  79238  5679  6899  5883  5920  6701  7383  9751   \n",
       "3      F      Emma    2010  77736  5679  6899  5883  5920  6701  7383  9751   \n",
       "4      M     Mason    2010  70808  5679  6899  5883  5920  6701  7383  9751   \n",
       "\n",
       "    1980   1990   2000   2010  \n",
       "0  12435  15720  17862  14151  \n",
       "1  12435  15720  17862  14151  \n",
       "2  12435  15720  17862  14151  \n",
       "3  12435  15720  17862  14151  \n",
       "4  12435  15720  17862  14151  "
      ]
     },
     "execution_count": 97,
     "metadata": {},
     "output_type": "execute_result"
    }
   ],
   "source": [
    "names_per_decade.head()"
   ]
  },
  {
   "cell_type": "code",
   "execution_count": 98,
   "metadata": {},
   "outputs": [],
   "source": [
    "names_per_decade = names_per_decade.drop(columns='gender')\n",
    "names_per_decade = names_per_decade.drop(columns='name')\n",
    "names_per_decade = names_per_decade.drop(columns='decade')\n",
    "names_per_decade = names_per_decade.drop(columns='count')"
   ]
  },
  {
   "cell_type": "code",
   "execution_count": 99,
   "metadata": {},
   "outputs": [],
   "source": [
    "most_names = most_names.drop_duplicates()"
   ]
  },
  {
   "cell_type": "code",
   "execution_count": 100,
   "metadata": {},
   "outputs": [
    {
     "data": {
      "text/plain": [
       "<seaborn.axisgrid.FacetGrid at 0xc17c460>"
      ]
     },
     "execution_count": 100,
     "metadata": {},
     "output_type": "execute_result"
    },
    {
     "data": {
      "image/png": "[encoded data removed]",
      "text/plain": [
       "<Figure size 432x432 with 1 Axes>"
      ]
     },
     "metadata": {
      "needs_background": "light"
     },
     "output_type": "display_data"
    }
   ],
   "source": [
    "g = sns.catplot(\n",
    "    data=names_per_decade, kind=\"bar\", palette=\"dark\", alpha=.6, height=6\n",
    ")\n",
    "g.despine(left=True)\n",
    "g.set_axis_labels(\"Decades\", \"Number of unique names\")"
   ]
  },
  {
   "cell_type": "markdown",
   "metadata": {},
   "source": [
    "### 5. Observe and visualize the average number of names per decade."
   ]
  },
  {
   "cell_type": "markdown",
   "metadata": {},
   "source": [
    "### At first I made the observation of the mean of each decade with the describe() command. Although I could have used the mean() command too which would only highlight the average, but this way I could have an overview of other information too.\n",
    "### After this I created a new data-set, where my new variables only contained the relevant average information for all representative decades.\n",
    "### I again used Catplot to display the required distribution as its presentation gave more visual satisfaction."
   ]
  },
  {
   "cell_type": "code",
   "execution_count": 101,
   "metadata": {},
   "outputs": [],
   "source": [
    "average_names_per_decade = names"
   ]
  },
  {
   "cell_type": "code",
   "execution_count": 102,
   "metadata": {},
   "outputs": [
    {
     "data": {
      "text/plain": [
       "count      5679.000000\n",
       "mean       2393.440747\n",
       "std       14731.714183\n",
       "min           5.000000\n",
       "25%          10.000000\n",
       "50%          44.000000\n",
       "75%         318.000000\n",
       "max      478634.000000\n",
       "Name: count, dtype: float64"
      ]
     },
     "execution_count": 102,
     "metadata": {},
     "output_type": "execute_result"
    }
   ],
   "source": [
    "names_1910['count'].describe()"
   ]
  },
  {
   "cell_type": "code",
   "execution_count": 103,
   "metadata": {},
   "outputs": [
    {
     "data": {
      "text/plain": [
       "count      6899.000000\n",
       "mean       3098.333092\n",
       "std       21376.047013\n",
       "min           5.000000\n",
       "25%          10.000000\n",
       "50%          50.000000\n",
       "75%         345.000000\n",
       "max      701709.000000\n",
       "Name: count, dtype: float64"
      ]
     },
     "execution_count": 103,
     "metadata": {},
     "output_type": "execute_result"
    }
   ],
   "source": [
    "names_1920['count'].describe()"
   ]
  },
  {
   "cell_type": "code",
   "execution_count": 104,
   "metadata": {},
   "outputs": [
    {
     "data": {
      "text/plain": [
       "count      5883.000000\n",
       "mean       3362.633520\n",
       "std       21562.316592\n",
       "min           5.000000\n",
       "25%          11.000000\n",
       "50%          56.000000\n",
       "75%         427.000000\n",
       "max      590599.000000\n",
       "Name: count, dtype: float64"
      ]
     },
     "execution_count": 104,
     "metadata": {},
     "output_type": "execute_result"
    }
   ],
   "source": [
    "names_1930['count'].describe()"
   ]
  },
  {
   "cell_type": "code",
   "execution_count": 105,
   "metadata": {},
   "outputs": [
    {
     "data": {
      "text/plain": [
       "count      5920.000000\n",
       "mean       4692.046115\n",
       "std       30558.018392\n",
       "min           5.000000\n",
       "25%          12.000000\n",
       "50%          68.000000\n",
       "75%         559.500000\n",
       "max      795557.000000\n",
       "Name: count, dtype: float64"
      ]
     },
     "execution_count": 105,
     "metadata": {},
     "output_type": "execute_result"
    }
   ],
   "source": [
    "names_1940['count'].describe()"
   ]
  },
  {
   "cell_type": "code",
   "execution_count": 106,
   "metadata": {},
   "outputs": [
    {
     "data": {
      "text/plain": [
       "count      6701.000000\n",
       "mean       5602.915684\n",
       "std       35858.717015\n",
       "min           5.000000\n",
       "25%          11.000000\n",
       "50%          69.000000\n",
       "75%         647.000000\n",
       "max      843189.000000\n",
       "Name: count, dtype: float64"
      ]
     },
     "execution_count": 106,
     "metadata": {},
     "output_type": "execute_result"
    }
   ],
   "source": [
    "names_1950['count'].describe()"
   ]
  },
  {
   "cell_type": "code",
   "execution_count": 107,
   "metadata": {},
   "outputs": [
    {
     "data": {
      "text/plain": [
       "count      7383.000000\n",
       "mean       4795.476365\n",
       "std       29386.752242\n",
       "min           5.000000\n",
       "25%          11.000000\n",
       "50%          65.000000\n",
       "75%         565.000000\n",
       "max      833395.000000\n",
       "Name: count, dtype: float64"
      ]
     },
     "execution_count": 107,
     "metadata": {},
     "output_type": "execute_result"
    }
   ],
   "source": [
    "names_1960['count'].describe()"
   ]
  },
  {
   "cell_type": "code",
   "execution_count": 108,
   "metadata": {},
   "outputs": [
    {
     "data": {
      "text/plain": [
       "count      9751.000000\n",
       "mean       2998.471131\n",
       "std       20398.032085\n",
       "min           5.000000\n",
       "25%          10.000000\n",
       "50%          46.000000\n",
       "75%         352.000000\n",
       "max      707704.000000\n",
       "Name: count, dtype: float64"
      ]
     },
     "execution_count": 108,
     "metadata": {},
     "output_type": "execute_result"
    }
   ],
   "source": [
    "names_1970['count'].describe()"
   ]
  },
  {
   "cell_type": "code",
   "execution_count": 109,
   "metadata": {},
   "outputs": [
    {
     "data": {
      "text/plain": [
       "count     12435.000000\n",
       "mean       2601.459268\n",
       "std       19395.527307\n",
       "min           5.000000\n",
       "25%          10.000000\n",
       "50%          40.000000\n",
       "75%         268.000000\n",
       "max      663445.000000\n",
       "Name: count, dtype: float64"
      ]
     },
     "execution_count": 109,
     "metadata": {},
     "output_type": "execute_result"
    }
   ],
   "source": [
    "names_1980['count'].describe()"
   ]
  },
  {
   "cell_type": "code",
   "execution_count": 110,
   "metadata": {},
   "outputs": [
    {
     "data": {
      "text/plain": [
       "count     15720.000000\n",
       "mean       2118.930916\n",
       "std       14513.126631\n",
       "min           5.000000\n",
       "25%          10.000000\n",
       "50%          40.000000\n",
       "75%         252.000000\n",
       "max      462265.000000\n",
       "Name: count, dtype: float64"
      ]
     },
     "execution_count": 110,
     "metadata": {},
     "output_type": "execute_result"
    }
   ],
   "source": [
    "names_1990['count'].describe()"
   ]
  },
  {
   "cell_type": "code",
   "execution_count": 111,
   "metadata": {},
   "outputs": [
    {
     "data": {
      "text/plain": [
       "count     17862.000000\n",
       "mean       1849.828071\n",
       "std       10839.130422\n",
       "min           5.000000\n",
       "25%          10.000000\n",
       "50%          44.000000\n",
       "75%         294.000000\n",
       "max      273591.000000\n",
       "Name: count, dtype: float64"
      ]
     },
     "execution_count": 111,
     "metadata": {},
     "output_type": "execute_result"
    }
   ],
   "source": [
    "names_2000['count'].describe()"
   ]
  },
  {
   "cell_type": "code",
   "execution_count": 112,
   "metadata": {},
   "outputs": [
    {
     "data": {
      "text/plain": [
       "count    14151.000000\n",
       "mean       870.004099\n",
       "std       4152.740042\n",
       "min          5.000000\n",
       "25%         10.000000\n",
       "50%         37.000000\n",
       "75%        215.000000\n",
       "max      85720.000000\n",
       "Name: count, dtype: float64"
      ]
     },
     "execution_count": 112,
     "metadata": {},
     "output_type": "execute_result"
    }
   ],
   "source": [
    "names_2010['count'].describe()"
   ]
  },
  {
   "cell_type": "code",
   "execution_count": 113,
   "metadata": {},
   "outputs": [],
   "source": [
    "average_names_per_decade[1910] = names_1910['count'].mean()\n",
    "average_names_per_decade[1920] = names_1920['count'].mean()\n",
    "average_names_per_decade[1930] = names_1930['count'].mean()\n",
    "average_names_per_decade[1940] = names_1940['count'].mean()\n",
    "average_names_per_decade[1950] = names_1950['count'].mean()\n",
    "average_names_per_decade[1960] = names_1960['count'].mean()\n",
    "average_names_per_decade[1970] = names_1970['count'].mean()\n",
    "average_names_per_decade[1980] = names_1980['count'].mean()\n",
    "average_names_per_decade[1990] = names_1990['count'].mean()\n",
    "average_names_per_decade[2000] = names_2000['count'].mean()\n",
    "average_names_per_decade[2010] = names_2010['count'].mean()"
   ]
  },
  {
   "cell_type": "code",
   "execution_count": 114,
   "metadata": {},
   "outputs": [],
   "source": [
    "average_names_per_decade = average_names_per_decade.drop(columns='gender')\n",
    "average_names_per_decade = average_names_per_decade.drop(columns='name')\n",
    "average_names_per_decade = average_names_per_decade.drop(columns='decade')\n",
    "average_names_per_decade = average_names_per_decade.drop(columns='count')"
   ]
  },
  {
   "cell_type": "code",
   "execution_count": 115,
   "metadata": {},
   "outputs": [],
   "source": [
    "average_names_per_decade = average_names_per_decade.drop_duplicates()"
   ]
  },
  {
   "cell_type": "code",
   "execution_count": 116,
   "metadata": {},
   "outputs": [
    {
     "data": {
      "text/html": [
       "<div>\n",
       "<style scoped>\n",
       "    .dataframe tbody tr th:only-of-type {\n",
       "        vertical-align: middle;\n",
       "    }\n",
       "\n",
       "    .dataframe tbody tr th {\n",
       "        vertical-align: top;\n",
       "    }\n",
       "\n",
       "    .dataframe thead th {\n",
       "        text-align: right;\n",
       "    }\n",
       "</style>\n",
       "<table border=\"1\" class=\"dataframe\">\n",
       "  <thead>\n",
       "    <tr style=\"text-align: right;\">\n",
       "      <th></th>\n",
       "      <th>1910</th>\n",
       "      <th>1920</th>\n",
       "      <th>1930</th>\n",
       "      <th>1940</th>\n",
       "      <th>1950</th>\n",
       "      <th>1960</th>\n",
       "      <th>1970</th>\n",
       "      <th>1980</th>\n",
       "      <th>1990</th>\n",
       "      <th>2000</th>\n",
       "      <th>2010</th>\n",
       "    </tr>\n",
       "  </thead>\n",
       "  <tbody>\n",
       "    <tr>\n",
       "      <th>0</th>\n",
       "      <td>2393.440747</td>\n",
       "      <td>3098.333092</td>\n",
       "      <td>3362.63352</td>\n",
       "      <td>4692.046115</td>\n",
       "      <td>5602.915684</td>\n",
       "      <td>4795.476365</td>\n",
       "      <td>2998.471131</td>\n",
       "      <td>2601.459268</td>\n",
       "      <td>2118.930916</td>\n",
       "      <td>1849.828071</td>\n",
       "      <td>870.004099</td>\n",
       "    </tr>\n",
       "  </tbody>\n",
       "</table>\n",
       "</div>"
      ],
      "text/plain": [
       "          1910         1920        1930         1940         1950  \\\n",
       "0  2393.440747  3098.333092  3362.63352  4692.046115  5602.915684   \n",
       "\n",
       "          1960         1970         1980         1990         2000        2010  \n",
       "0  4795.476365  2998.471131  2601.459268  2118.930916  1849.828071  870.004099  "
      ]
     },
     "execution_count": 116,
     "metadata": {},
     "output_type": "execute_result"
    }
   ],
   "source": [
    "average_names_per_decade.head()"
   ]
  },
  {
   "cell_type": "code",
   "execution_count": 117,
   "metadata": {},
   "outputs": [
    {
     "data": {
      "text/plain": [
       "<seaborn.axisgrid.FacetGrid at 0xbf9d5b0>"
      ]
     },
     "execution_count": 117,
     "metadata": {},
     "output_type": "execute_result"
    },
    {
     "data": {
      "image/png": "[encoded data removed]",
      "text/plain": [
       "<Figure size 576x576 with 1 Axes>"
      ]
     },
     "metadata": {
      "needs_background": "light"
     },
     "output_type": "display_data"
    }
   ],
   "source": [
    "g = sns.catplot(\n",
    "    data=average_names_per_decade, kind=\"bar\", palette=\"pastel\", alpha=.8, height=8\n",
    ")\n",
    "g.despine(left=False)\n",
    "g.set_axis_labels(\"Decades\", \"Average number of names\")"
   ]
  },
  {
   "cell_type": "code",
   "execution_count": null,
   "metadata": {},
   "outputs": [],
   "source": []
  }
 ],
 "metadata": {
  "kernelspec": {
   "display_name": "Python 3",
   "language": "python",
   "name": "python3"
  },
  "language_info": {
   "codemirror_mode": {
    "name": "ipython",
    "version": 3
   },
   "file_extension": ".py",
   "mimetype": "text/x-python",
   "name": "python",
   "nbconvert_exporter": "python",
   "pygments_lexer": "ipython3",
   "version": "3.8.3"
  }
 },
 "nbformat": 4,
 "nbformat_minor": 4
}
